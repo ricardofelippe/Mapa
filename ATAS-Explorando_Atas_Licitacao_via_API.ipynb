{
  "cells": [
    {
      "cell_type": "markdown",
      "metadata": {
        "colab_type": "text",
        "id": "view-in-github"
      },
      "source": [
        "<a href=\"https://colab.research.google.com/github/ricardofelippe/Mapa/blob/main/Explorando_as_despesas_do_governo_federal_via_API_%5BEscola_de_Dados%5D.ipynb\" target=\"_parent\"><img src=\"https://colab.research.google.com/assets/colab-badge.svg\" alt=\"Open In Colab\"/></a>"
      ]
    },
    {
      "cell_type": "markdown",
      "metadata": {
        "id": "lJstFeWdXIK_"
      },
      "source": [
        "## API x Bases de Dados\n",
        "---\n",
        "\n",
        "Quem não tem fluência em programação, pode pasar por uma certa curva de aprendizagem para começar a usar APIs (*Application Programming Interface*). Em alguns casos, porém, você pode ganhar muito tempo se optar por consumir os dados via API, mesmo que demore mais para criar seu código pela primeira vez.\n",
        "\n",
        "Confira abaixo uma comparação sobre as duas formas de acessar os dados. Mas atenção: essa comparação não é geral, ela se aplica especificamente ao Portal da Transparência do Governo Federal e à maneira como os dados estão disponibilizados hoje."
      ]
    },
    {
      "cell_type": "markdown",
      "metadata": {
        "id": "d2-tMprkXRbe"
      },
      "source": [
        "| Situação                       |   API           | Download de CSV  |\n",
        "| :-------------                 | :-------------  | :------------- |\n",
        "| Preciso de uma série histórica grande| +               | +++++          |\n",
        "| Não faço pauta desse tema com frequência | ++               | +++++|\n",
        "| Quero monitorar um assunto/cnpj/órgão etc | +++++               | +          |\n",
        "| Quero conectar em um site ou visualização | ++++               | ++      |\n",
        "| *Que outras situações ocorrem a vocês?* |               |      |\n",
        "\n",
        "\n"
      ]
    },
    {
      "cell_type": "markdown",
      "metadata": {
        "id": "Pn9MOxZHfYPv"
      },
      "source": [
        "### Onde encontrar?\n",
        "\n",
        "Para conhecer os dados disponíveis, sistema de origem, órgão responsável, periodicidade e data de atualização do Portal (download e API):\n",
        "\n",
        "http://transparencia.gov.br/origem-dos-dados\n",
        "\n",
        "- **Acesso via API**\n",
        "\n",
        "http://www.transparencia.gov.br/swagger-ui.html\n",
        "\n",
        "O Swagger é uma feramenta que documenta e permite explorar o conteúdo. Iremos falar mais sobre ela abaixo.\n",
        "\n",
        "- **Bases para download**\n",
        "\n",
        "http://transparencia.gov.br/download-de-dados\n",
        "\n",
        "https://brasil.io/dataset/gastos-diretos/gastos (coletado e tratado por Álvaro Justen (Turicas) - tenha atenção para as datas de atualização no site)\n"
      ]
    },
    {
      "cell_type": "markdown",
      "metadata": {
        "id": "Ytu-ELgX6RTY"
      },
      "source": [
        "# Acessando a API\n",
        "\n",
        "---\n",
        "\n"
      ]
    },
    {
      "cell_type": "markdown",
      "metadata": {
        "id": "tC56uKrrVaox"
      },
      "source": [
        "Agora que já compreendemos o básico sobre como as despesas do governo federal são registradas, vamos colocar a mão na massa rodando alguns códigos em Python.\n",
        "\n",
        "Iremos começar importando os pacotes que iremos utilizar.\n",
        "\n",
        "Clique no botão de \"Play\" abaixo para executar o código. Se nenhum erro aparecer, então, deu tudo certo :)"
      ]
    },
    {
      "cell_type": "code",
      "execution_count": 1,
      "metadata": {
        "id": "aBAeTjUGtl8c"
      },
      "outputs": [],
      "source": [
        "import pandas as pd\n",
        "import requests\n",
        "import json\n",
        "import numpy as np\n",
        "from IPython.display import Image\n"
      ]
    },
    {
      "cell_type": "code",
      "execution_count": 2,
      "metadata": {
        "id": "BSGjCUn5eToT"
      },
      "outputs": [],
      "source": [
        "# Troque os caracteres abaixo por uma chave válida, criada com seu email, usando o endereço abaixo\n",
        "# http://www.portaldatransparencia.gov.br/api-de-dados/cadastrar-email\n",
        "minha_chave = '3fd8bbb6a046fd05f768fb0b7fbefbb3'\n",
        "\n",
        "# para conseguir acessar a API, precisamos incluir no cabeçalho da requisição a nossa chave, que definimos anteriormente. Não é necessário alterar essa variável.\n",
        "chave = {'chave-api-dados':minha_chave}"
      ]
    },
    {
      "cell_type": "markdown",
      "metadata": {},
      "source": [
        "## Fonte de Dados   : https://pncp.gov.br/api/consulta/swagger-ui/index.html#/                                                                                                                                   \n",
        "           "
      ]
    },
    {
      "cell_type": "code",
      "execution_count": 4,
      "metadata": {},
      "outputs": [],
      "source": [
        "serie_orgao = []\n",
        "\n",
        "# O loop abaixo irá tomar como ponto de partido o intervalo de números entre 2019 e e 2019, incluindo estes dois.\n",
        "# \n",
        "#\n",
        "#\n",
        "# \n",
        "url = f'https://pncp.gov.br/api/consulta/v1/atas?anoAta=20240801&dataInicial=20240828&dataFinal=20250801&pagina=1'\n",
        "    # esta URL foi gerada a partir da consulta por órgão no swagger\n",
        "\n",
        "    # aqui, fazemos a consulta e obtemos o resultado para cada ano em JSON\n",
        "r_orgao = requests.get(url, verify=True,headers=chave).json()\n",
        "\n",
        "dados=r_orgao['data']\n",
        "r_orgao=dados\n",
        "    # e aqui juntamos os resultados de cada ano em uma série histórica do órgão\n"
      ]
    },
    {
      "cell_type": "code",
      "execution_count": null,
      "metadata": {},
      "outputs": [],
      "source": [
        "r_orgao"
      ]
    },
    {
      "cell_type": "markdown",
      "metadata": {},
      "source": [
        "## Criando o DATAFRAME"
      ]
    },
    {
      "cell_type": "code",
      "execution_count": 30,
      "metadata": {},
      "outputs": [
        {
          "data": {
            "text/html": [
              "<div>\n",
              "<style scoped>\n",
              "    .dataframe tbody tr th:only-of-type {\n",
              "        vertical-align: middle;\n",
              "    }\n",
              "\n",
              "    .dataframe tbody tr th {\n",
              "        vertical-align: top;\n",
              "    }\n",
              "\n",
              "    .dataframe thead th {\n",
              "        text-align: right;\n",
              "    }\n",
              "</style>\n",
              "<table border=\"1\" class=\"dataframe\">\n",
              "  <thead>\n",
              "    <tr style=\"text-align: right;\">\n",
              "      <th></th>\n",
              "      <th>dataPublicacaoPncp</th>\n",
              "      <th>numeroControlePNCPAta</th>\n",
              "      <th>numeroControlePNCPCompra</th>\n",
              "      <th>anoAta</th>\n",
              "      <th>numeroAtaRegistroPreco</th>\n",
              "      <th>vigenciaInicio</th>\n",
              "      <th>vigenciaFim</th>\n",
              "      <th>usuario</th>\n",
              "      <th>objetoContratacao</th>\n",
              "      <th>codigoUnidadeOrgao</th>\n",
              "      <th>nomeOrgao</th>\n",
              "      <th>nomeUnidadeOrgao</th>\n",
              "    </tr>\n",
              "  </thead>\n",
              "  <tbody>\n",
              "    <tr>\n",
              "      <th>0</th>\n",
              "      <td>2023-05-30</td>\n",
              "      <td>00394502000144-1-001956/2023-000001</td>\n",
              "      <td>00394502000144-1-001956/2023</td>\n",
              "      <td>2023</td>\n",
              "      <td>00036</td>\n",
              "      <td>2023-05-31</td>\n",
              "      <td>2025-05-31</td>\n",
              "      <td>Contratos.gov.br</td>\n",
              "      <td>Registro de preços para a eventual aquisição d...</td>\n",
              "      <td>711000</td>\n",
              "      <td>COMANDO DA MARINHA</td>\n",
              "      <td>GABINETE DO COMANDANTE DA MARINHA</td>\n",
              "    </tr>\n",
              "    <tr>\n",
              "      <th>1</th>\n",
              "      <td>2023-06-05</td>\n",
              "      <td>00394452000103-1-002876/2023-000001</td>\n",
              "      <td>00394452000103-1-002876/2023</td>\n",
              "      <td>2023</td>\n",
              "      <td>00001</td>\n",
              "      <td>2023-06-06</td>\n",
              "      <td>2025-06-06</td>\n",
              "      <td>Contratos.gov.br</td>\n",
              "      <td>Serviço de manutenção de bens imóveis.</td>\n",
              "      <td>160515</td>\n",
              "      <td>COMANDO DO EXERCITO</td>\n",
              "      <td>COMANDO DA 2ª BRIGADA DE INFANTARIA DE SELVA</td>\n",
              "    </tr>\n",
              "    <tr>\n",
              "      <th>2</th>\n",
              "      <td>2023-06-26</td>\n",
              "      <td>04801221000110-1-000076/2023-000001</td>\n",
              "      <td>04801221000110-1-000076/2023</td>\n",
              "      <td>2023</td>\n",
              "      <td>00002</td>\n",
              "      <td>2023-06-15</td>\n",
              "      <td>2025-06-14</td>\n",
              "      <td>Contratos.gov.br</td>\n",
              "      <td>Registro de Preço para Futura e Eventual Contr...</td>\n",
              "      <td>450522</td>\n",
              "      <td>TRIBUNAL DE CONTAS DO ESTADO DE RONDONIA</td>\n",
              "      <td>PREFEITURA DO MUNICIPIO DE ARIQUEMES</td>\n",
              "    </tr>\n",
              "    <tr>\n",
              "      <th>3</th>\n",
              "      <td>2023-06-28</td>\n",
              "      <td>00508903000188-1-000387/2023-000005</td>\n",
              "      <td>00508903000188-1-000387/2023</td>\n",
              "      <td>2023</td>\n",
              "      <td>00027</td>\n",
              "      <td>2023-06-29</td>\n",
              "      <td>2025-06-29</td>\n",
              "      <td>Contratos.gov.br</td>\n",
              "      <td>Aquisição de equipamentos diversos (forno micr...</td>\n",
              "      <td>090016</td>\n",
              "      <td>JUSTICA FEDERAL DE PRIMEIRA INSTANCIA</td>\n",
              "      <td>JUSTICA FEDERAL DE 1A. INSTANCIA - RJ</td>\n",
              "    </tr>\n",
              "    <tr>\n",
              "      <th>4</th>\n",
              "      <td>2023-06-28</td>\n",
              "      <td>10742006000198-1-000012/2023-000001</td>\n",
              "      <td>10742006000198-1-000012/2023</td>\n",
              "      <td>2023</td>\n",
              "      <td>00001</td>\n",
              "      <td>2023-06-29</td>\n",
              "      <td>2025-06-29</td>\n",
              "      <td>Contratos.gov.br</td>\n",
              "      <td>Contratação de Serviço Especializado para asse...</td>\n",
              "      <td>158131</td>\n",
              "      <td>INSTITUTO FEDERAL DE EDUCACAO, CIENCIA E TECNO...</td>\n",
              "      <td>INST.FED.DE EDUC.,CIENC. E TEC.DO TOCANTINS</td>\n",
              "    </tr>\n",
              "    <tr>\n",
              "      <th>...</th>\n",
              "      <td>...</td>\n",
              "      <td>...</td>\n",
              "      <td>...</td>\n",
              "      <td>...</td>\n",
              "      <td>...</td>\n",
              "      <td>...</td>\n",
              "      <td>...</td>\n",
              "      <td>...</td>\n",
              "      <td>...</td>\n",
              "      <td>...</td>\n",
              "      <td>...</td>\n",
              "      <td>...</td>\n",
              "    </tr>\n",
              "    <tr>\n",
              "      <th>258</th>\n",
              "      <td>2023-08-30</td>\n",
              "      <td>00394452000103-1-008198/2023-000006</td>\n",
              "      <td>00394452000103-1-008198/2023</td>\n",
              "      <td>2023</td>\n",
              "      <td>00116</td>\n",
              "      <td>2023-08-30</td>\n",
              "      <td>2024-08-30</td>\n",
              "      <td>Contratos.gov.br</td>\n",
              "      <td>Aquisições de materiais de expediente a fim de...</td>\n",
              "      <td>160366</td>\n",
              "      <td>COMANDO DO EXERCITO</td>\n",
              "      <td>13 GRUPO DE ATILHARIA DE CAMPANHA/RS</td>\n",
              "    </tr>\n",
              "    <tr>\n",
              "      <th>259</th>\n",
              "      <td>2023-08-30</td>\n",
              "      <td>00394452000103-1-008198/2023-000007</td>\n",
              "      <td>00394452000103-1-008198/2023</td>\n",
              "      <td>2023</td>\n",
              "      <td>00117</td>\n",
              "      <td>2023-08-30</td>\n",
              "      <td>2024-08-30</td>\n",
              "      <td>Contratos.gov.br</td>\n",
              "      <td>Aquisições de materiais de expediente a fim de...</td>\n",
              "      <td>160366</td>\n",
              "      <td>COMANDO DO EXERCITO</td>\n",
              "      <td>13 GRUPO DE ATILHARIA DE CAMPANHA/RS</td>\n",
              "    </tr>\n",
              "    <tr>\n",
              "      <th>260</th>\n",
              "      <td>2023-08-30</td>\n",
              "      <td>00394452000103-1-008198/2023-000008</td>\n",
              "      <td>00394452000103-1-008198/2023</td>\n",
              "      <td>2023</td>\n",
              "      <td>00118</td>\n",
              "      <td>2023-08-30</td>\n",
              "      <td>2024-08-30</td>\n",
              "      <td>Contratos.gov.br</td>\n",
              "      <td>Aquisições de materiais de expediente a fim de...</td>\n",
              "      <td>160366</td>\n",
              "      <td>COMANDO DO EXERCITO</td>\n",
              "      <td>13 GRUPO DE ATILHARIA DE CAMPANHA/RS</td>\n",
              "    </tr>\n",
              "    <tr>\n",
              "      <th>261</th>\n",
              "      <td>2023-08-30</td>\n",
              "      <td>00394452000103-1-008198/2023-000009</td>\n",
              "      <td>00394452000103-1-008198/2023</td>\n",
              "      <td>2023</td>\n",
              "      <td>00119</td>\n",
              "      <td>2023-08-30</td>\n",
              "      <td>2024-08-30</td>\n",
              "      <td>Contratos.gov.br</td>\n",
              "      <td>Aquisições de materiais de expediente a fim de...</td>\n",
              "      <td>160366</td>\n",
              "      <td>COMANDO DO EXERCITO</td>\n",
              "      <td>13 GRUPO DE ATILHARIA DE CAMPANHA/RS</td>\n",
              "    </tr>\n",
              "    <tr>\n",
              "      <th>262</th>\n",
              "      <td>2023-08-30</td>\n",
              "      <td>00394452000103-1-008198/2023-000010</td>\n",
              "      <td>00394452000103-1-008198/2023</td>\n",
              "      <td>2023</td>\n",
              "      <td>00120</td>\n",
              "      <td>2023-08-30</td>\n",
              "      <td>2024-08-30</td>\n",
              "      <td>Contratos.gov.br</td>\n",
              "      <td>Aquisições de materiais de expediente a fim de...</td>\n",
              "      <td>160366</td>\n",
              "      <td>COMANDO DO EXERCITO</td>\n",
              "      <td>13 GRUPO DE ATILHARIA DE CAMPANHA/RS</td>\n",
              "    </tr>\n",
              "  </tbody>\n",
              "</table>\n",
              "<p>263 rows × 12 columns</p>\n",
              "</div>"
            ],
            "text/plain": [
              "    dataPublicacaoPncp                numeroControlePNCPAta  \\\n",
              "0           2023-05-30  00394502000144-1-001956/2023-000001   \n",
              "1           2023-06-05  00394452000103-1-002876/2023-000001   \n",
              "2           2023-06-26  04801221000110-1-000076/2023-000001   \n",
              "3           2023-06-28  00508903000188-1-000387/2023-000005   \n",
              "4           2023-06-28  10742006000198-1-000012/2023-000001   \n",
              "..                 ...                                  ...   \n",
              "258         2023-08-30  00394452000103-1-008198/2023-000006   \n",
              "259         2023-08-30  00394452000103-1-008198/2023-000007   \n",
              "260         2023-08-30  00394452000103-1-008198/2023-000008   \n",
              "261         2023-08-30  00394452000103-1-008198/2023-000009   \n",
              "262         2023-08-30  00394452000103-1-008198/2023-000010   \n",
              "\n",
              "         numeroControlePNCPCompra anoAta numeroAtaRegistroPreco  \\\n",
              "0    00394502000144-1-001956/2023   2023                  00036   \n",
              "1    00394452000103-1-002876/2023   2023                  00001   \n",
              "2    04801221000110-1-000076/2023   2023                  00002   \n",
              "3    00508903000188-1-000387/2023   2023                  00027   \n",
              "4    10742006000198-1-000012/2023   2023                  00001   \n",
              "..                            ...    ...                    ...   \n",
              "258  00394452000103-1-008198/2023   2023                  00116   \n",
              "259  00394452000103-1-008198/2023   2023                  00117   \n",
              "260  00394452000103-1-008198/2023   2023                  00118   \n",
              "261  00394452000103-1-008198/2023   2023                  00119   \n",
              "262  00394452000103-1-008198/2023   2023                  00120   \n",
              "\n",
              "    vigenciaInicio vigenciaFim           usuario  \\\n",
              "0       2023-05-31  2025-05-31  Contratos.gov.br   \n",
              "1       2023-06-06  2025-06-06  Contratos.gov.br   \n",
              "2       2023-06-15  2025-06-14  Contratos.gov.br   \n",
              "3       2023-06-29  2025-06-29  Contratos.gov.br   \n",
              "4       2023-06-29  2025-06-29  Contratos.gov.br   \n",
              "..             ...         ...               ...   \n",
              "258     2023-08-30  2024-08-30  Contratos.gov.br   \n",
              "259     2023-08-30  2024-08-30  Contratos.gov.br   \n",
              "260     2023-08-30  2024-08-30  Contratos.gov.br   \n",
              "261     2023-08-30  2024-08-30  Contratos.gov.br   \n",
              "262     2023-08-30  2024-08-30  Contratos.gov.br   \n",
              "\n",
              "                                     objetoContratacao codigoUnidadeOrgao  \\\n",
              "0    Registro de preços para a eventual aquisição d...             711000   \n",
              "1               Serviço de manutenção de bens imóveis.             160515   \n",
              "2    Registro de Preço para Futura e Eventual Contr...             450522   \n",
              "3    Aquisição de equipamentos diversos (forno micr...             090016   \n",
              "4    Contratação de Serviço Especializado para asse...             158131   \n",
              "..                                                 ...                ...   \n",
              "258  Aquisições de materiais de expediente a fim de...             160366   \n",
              "259  Aquisições de materiais de expediente a fim de...             160366   \n",
              "260  Aquisições de materiais de expediente a fim de...             160366   \n",
              "261  Aquisições de materiais de expediente a fim de...             160366   \n",
              "262  Aquisições de materiais de expediente a fim de...             160366   \n",
              "\n",
              "                                             nomeOrgao  \\\n",
              "0                                   COMANDO DA MARINHA   \n",
              "1                                  COMANDO DO EXERCITO   \n",
              "2             TRIBUNAL DE CONTAS DO ESTADO DE RONDONIA   \n",
              "3                JUSTICA FEDERAL DE PRIMEIRA INSTANCIA   \n",
              "4    INSTITUTO FEDERAL DE EDUCACAO, CIENCIA E TECNO...   \n",
              "..                                                 ...   \n",
              "258                                COMANDO DO EXERCITO   \n",
              "259                                COMANDO DO EXERCITO   \n",
              "260                                COMANDO DO EXERCITO   \n",
              "261                                COMANDO DO EXERCITO   \n",
              "262                                COMANDO DO EXERCITO   \n",
              "\n",
              "                                 nomeUnidadeOrgao  \n",
              "0               GABINETE DO COMANDANTE DA MARINHA  \n",
              "1    COMANDO DA 2ª BRIGADA DE INFANTARIA DE SELVA  \n",
              "2            PREFEITURA DO MUNICIPIO DE ARIQUEMES  \n",
              "3           JUSTICA FEDERAL DE 1A. INSTANCIA - RJ  \n",
              "4     INST.FED.DE EDUC.,CIENC. E TEC.DO TOCANTINS  \n",
              "..                                            ...  \n",
              "258          13 GRUPO DE ATILHARIA DE CAMPANHA/RS  \n",
              "259          13 GRUPO DE ATILHARIA DE CAMPANHA/RS  \n",
              "260          13 GRUPO DE ATILHARIA DE CAMPANHA/RS  \n",
              "261          13 GRUPO DE ATILHARIA DE CAMPANHA/RS  \n",
              "262          13 GRUPO DE ATILHARIA DE CAMPANHA/RS  \n",
              "\n",
              "[263 rows x 12 columns]"
            ]
          },
          "execution_count": 30,
          "metadata": {},
          "output_type": "execute_result"
        }
      ],
      "source": [
        "numeroControlePNCPAta=list(map(lambda x:x[\"numeroControlePNCPAta\"],r_orgao))\n",
        "numeroControlePNCPCompra=list(map(lambda x:x[\"numeroControlePNCPCompra\"],r_orgao))\n",
        "anoAta=list(map(lambda x:x[\"anoAta\"],r_orgao))\n",
        "numeroAtaRegistroPreco=list(map(lambda x:x[\"numeroAtaRegistroPreco\"],r_orgao))\n",
        "#cancelado=list(map(lambda x:x[\"cancelado\"],r_orgao))\n",
        "dataPublicacaoPncp=list(map(lambda x:x[\"dataPublicacaoPncp\"],r_orgao))\n",
        "vigenciaInicio=list(map(lambda x:x[\"vigenciaInicio\"],r_orgao))\n",
        "vigenciaFim=list(map(lambda x:x[\"vigenciaFim\"],r_orgao))\n",
        "usuario=list(map(lambda x:x[\"usuario\"],r_orgao))\n",
        "objetoContratacao=list(map(lambda x:x[\"objetoContratacao\"],r_orgao))\n",
        "nomeOrgao=list(map(lambda x:x[\"nomeOrgao\"],r_orgao))\n",
        "codigoUnidadeOrgao=list(map(lambda x:x[\"codigoUnidadeOrgao\"],r_orgao))\n",
        "codigoUnidadeOrgao=list(map(lambda x:x[\"codigoUnidadeOrgao\"],r_orgao))\n",
        "nomeUnidadeOrgao=list(map(lambda x:x[\"nomeUnidadeOrgao\"],r_orgao))\n",
        "\n",
        "data = pd.DataFrame([dataPublicacaoPncp,numeroControlePNCPAta,numeroControlePNCPCompra,anoAta, numeroAtaRegistroPreco,\n",
        "                      vigenciaInicio,vigenciaFim,usuario,objetoContratacao,codigoUnidadeOrgao,nomeOrgao,nomeUnidadeOrgao]) # Each list would be added as a row\n",
        "data = data.transpose() \n",
        "data.columns = ['dataPublicacaoPncp','numeroControlePNCPAta','numeroControlePNCPCompra','anoAta', 'numeroAtaRegistroPreco',\n",
        "                      'vigenciaInicio','vigenciaFim','usuario','objetoContratacao','codigoUnidadeOrgao','nomeOrgao','nomeUnidadeOrgao']\n",
        "\n",
        "data=data.query(\"usuario == 'Contratos.gov.br'\")\n",
        "data=data.reset_index(drop=True)\n",
        "data\n"
      ]
    },
    {
      "cell_type": "markdown",
      "metadata": {},
      "source": [
        "# Proximos Passos\n",
        "\n",
        "1- filtrar usuário compras.gov.br\n",
        "2- Anexar documentos da ata "
      ]
    },
    {
      "cell_type": "code",
      "execution_count": 8,
      "metadata": {},
      "outputs": [
        {
          "data": {
            "image/png": "[encoded data removed]",
            "text/plain": [
              "<IPython.core.display.Image object>"
            ]
          },
          "execution_count": 8,
          "metadata": {},
          "output_type": "execute_result"
        }
      ],
      "source": [
        "Image(\"explicacaoNumeracaoPNCP.png\")\n"
      ]
    },
    {
      "cell_type": "code",
      "execution_count": 31,
      "metadata": {},
      "outputs": [
        {
          "data": {
            "text/html": [
              "<div>\n",
              "<style scoped>\n",
              "    .dataframe tbody tr th:only-of-type {\n",
              "        vertical-align: middle;\n",
              "    }\n",
              "\n",
              "    .dataframe tbody tr th {\n",
              "        vertical-align: top;\n",
              "    }\n",
              "\n",
              "    .dataframe thead th {\n",
              "        text-align: right;\n",
              "    }\n",
              "</style>\n",
              "<table border=\"1\" class=\"dataframe\">\n",
              "  <thead>\n",
              "    <tr style=\"text-align: right;\">\n",
              "      <th></th>\n",
              "      <th>dataPublicacaoPncp</th>\n",
              "      <th>numeroControlePNCPAta</th>\n",
              "    </tr>\n",
              "  </thead>\n",
              "  <tbody>\n",
              "    <tr>\n",
              "      <th>0</th>\n",
              "      <td>2023-05-30</td>\n",
              "      <td>00394502000144-1-001956/2023-000001</td>\n",
              "    </tr>\n",
              "    <tr>\n",
              "      <th>1</th>\n",
              "      <td>2023-06-05</td>\n",
              "      <td>00394452000103-1-002876/2023-000001</td>\n",
              "    </tr>\n",
              "    <tr>\n",
              "      <th>2</th>\n",
              "      <td>2023-06-26</td>\n",
              "      <td>04801221000110-1-000076/2023-000001</td>\n",
              "    </tr>\n",
              "    <tr>\n",
              "      <th>3</th>\n",
              "      <td>2023-06-28</td>\n",
              "      <td>00508903000188-1-000387/2023-000005</td>\n",
              "    </tr>\n",
              "    <tr>\n",
              "      <th>4</th>\n",
              "      <td>2023-06-28</td>\n",
              "      <td>10742006000198-1-000012/2023-000001</td>\n",
              "    </tr>\n",
              "    <tr>\n",
              "      <th>...</th>\n",
              "      <td>...</td>\n",
              "      <td>...</td>\n",
              "    </tr>\n",
              "    <tr>\n",
              "      <th>258</th>\n",
              "      <td>2023-08-30</td>\n",
              "      <td>00394452000103-1-008198/2023-000006</td>\n",
              "    </tr>\n",
              "    <tr>\n",
              "      <th>259</th>\n",
              "      <td>2023-08-30</td>\n",
              "      <td>00394452000103-1-008198/2023-000007</td>\n",
              "    </tr>\n",
              "    <tr>\n",
              "      <th>260</th>\n",
              "      <td>2023-08-30</td>\n",
              "      <td>00394452000103-1-008198/2023-000008</td>\n",
              "    </tr>\n",
              "    <tr>\n",
              "      <th>261</th>\n",
              "      <td>2023-08-30</td>\n",
              "      <td>00394452000103-1-008198/2023-000009</td>\n",
              "    </tr>\n",
              "    <tr>\n",
              "      <th>262</th>\n",
              "      <td>2023-08-30</td>\n",
              "      <td>00394452000103-1-008198/2023-000010</td>\n",
              "    </tr>\n",
              "  </tbody>\n",
              "</table>\n",
              "<p>263 rows × 2 columns</p>\n",
              "</div>"
            ],
            "text/plain": [
              "    dataPublicacaoPncp                numeroControlePNCPAta\n",
              "0           2023-05-30  00394502000144-1-001956/2023-000001\n",
              "1           2023-06-05  00394452000103-1-002876/2023-000001\n",
              "2           2023-06-26  04801221000110-1-000076/2023-000001\n",
              "3           2023-06-28  00508903000188-1-000387/2023-000005\n",
              "4           2023-06-28  10742006000198-1-000012/2023-000001\n",
              "..                 ...                                  ...\n",
              "258         2023-08-30  00394452000103-1-008198/2023-000006\n",
              "259         2023-08-30  00394452000103-1-008198/2023-000007\n",
              "260         2023-08-30  00394452000103-1-008198/2023-000008\n",
              "261         2023-08-30  00394452000103-1-008198/2023-000009\n",
              "262         2023-08-30  00394452000103-1-008198/2023-000010\n",
              "\n",
              "[263 rows x 2 columns]"
            ]
          },
          "execution_count": 31,
          "metadata": {},
          "output_type": "execute_result"
        }
      ],
      "source": [
        "# Extraindo subconjunto de colunas\n",
        "# Index(['numeroControlePNCPAta', 'anoAta', 'cancelado', 'vigenciaInicio',\n",
        "    #    'vigenciaFim', 'usuario', 'objetoContratacao', 'codigoUnidadeOrgao',\n",
        "    #    'nomeUnidadeOrgao'],\n",
        "    #   dtype='object')\n",
        "#url = f'https://pncp.gov.br/api/pncp/v1/orgaos/00394452000103/compras/2024/011953/atas/000003/arquivos'\n",
        "\n",
        "cols = [0,1] # numeroControlePNCPAta, anoAta\n",
        "df = data[data.columns[cols]]\n",
        "df"
      ]
    },
    {
      "cell_type": "code",
      "execution_count": 32,
      "metadata": {},
      "outputs": [
        {
          "data": {
            "text/html": [
              "<div>\n",
              "<style scoped>\n",
              "    .dataframe tbody tr th:only-of-type {\n",
              "        vertical-align: middle;\n",
              "    }\n",
              "\n",
              "    .dataframe tbody tr th {\n",
              "        vertical-align: top;\n",
              "    }\n",
              "\n",
              "    .dataframe thead th {\n",
              "        text-align: right;\n",
              "    }\n",
              "</style>\n",
              "<table border=\"1\" class=\"dataframe\">\n",
              "  <thead>\n",
              "    <tr style=\"text-align: right;\">\n",
              "      <th></th>\n",
              "      <th>cnpj</th>\n",
              "      <th>anoCompra</th>\n",
              "      <th>sequencialCompra</th>\n",
              "      <th>sequencialAta</th>\n",
              "    </tr>\n",
              "  </thead>\n",
              "  <tbody>\n",
              "    <tr>\n",
              "      <th>0</th>\n",
              "      <td>00394502000144</td>\n",
              "      <td>2023</td>\n",
              "      <td>001956</td>\n",
              "      <td>000001</td>\n",
              "    </tr>\n",
              "    <tr>\n",
              "      <th>1</th>\n",
              "      <td>00394452000103</td>\n",
              "      <td>2023</td>\n",
              "      <td>002876</td>\n",
              "      <td>000001</td>\n",
              "    </tr>\n",
              "    <tr>\n",
              "      <th>2</th>\n",
              "      <td>04801221000110</td>\n",
              "      <td>2023</td>\n",
              "      <td>000076</td>\n",
              "      <td>000001</td>\n",
              "    </tr>\n",
              "    <tr>\n",
              "      <th>3</th>\n",
              "      <td>00508903000188</td>\n",
              "      <td>2023</td>\n",
              "      <td>000387</td>\n",
              "      <td>000005</td>\n",
              "    </tr>\n",
              "    <tr>\n",
              "      <th>4</th>\n",
              "      <td>10742006000198</td>\n",
              "      <td>2023</td>\n",
              "      <td>000012</td>\n",
              "      <td>000001</td>\n",
              "    </tr>\n",
              "    <tr>\n",
              "      <th>...</th>\n",
              "      <td>...</td>\n",
              "      <td>...</td>\n",
              "      <td>...</td>\n",
              "      <td>...</td>\n",
              "    </tr>\n",
              "    <tr>\n",
              "      <th>258</th>\n",
              "      <td>00394452000103</td>\n",
              "      <td>2023</td>\n",
              "      <td>008198</td>\n",
              "      <td>000006</td>\n",
              "    </tr>\n",
              "    <tr>\n",
              "      <th>259</th>\n",
              "      <td>00394452000103</td>\n",
              "      <td>2023</td>\n",
              "      <td>008198</td>\n",
              "      <td>000007</td>\n",
              "    </tr>\n",
              "    <tr>\n",
              "      <th>260</th>\n",
              "      <td>00394452000103</td>\n",
              "      <td>2023</td>\n",
              "      <td>008198</td>\n",
              "      <td>000008</td>\n",
              "    </tr>\n",
              "    <tr>\n",
              "      <th>261</th>\n",
              "      <td>00394452000103</td>\n",
              "      <td>2023</td>\n",
              "      <td>008198</td>\n",
              "      <td>000009</td>\n",
              "    </tr>\n",
              "    <tr>\n",
              "      <th>262</th>\n",
              "      <td>00394452000103</td>\n",
              "      <td>2023</td>\n",
              "      <td>008198</td>\n",
              "      <td>000010</td>\n",
              "    </tr>\n",
              "  </tbody>\n",
              "</table>\n",
              "<p>263 rows × 4 columns</p>\n",
              "</div>"
            ],
            "text/plain": [
              "               cnpj anoCompra sequencialCompra sequencialAta\n",
              "0    00394502000144      2023           001956        000001\n",
              "1    00394452000103      2023           002876        000001\n",
              "2    04801221000110      2023           000076        000001\n",
              "3    00508903000188      2023           000387        000005\n",
              "4    10742006000198      2023           000012        000001\n",
              "..              ...       ...              ...           ...\n",
              "258  00394452000103      2023           008198        000006\n",
              "259  00394452000103      2023           008198        000007\n",
              "260  00394452000103      2023           008198        000008\n",
              "261  00394452000103      2023           008198        000009\n",
              "262  00394452000103      2023           008198        000010\n",
              "\n",
              "[263 rows x 4 columns]"
            ]
          },
          "execution_count": 32,
          "metadata": {},
          "output_type": "execute_result"
        }
      ],
      "source": [
        "# URL BASE= https://pncp.gov.br/api/pncp/v1/orgaos/{cnpj}/compras/{anoCompra}/{sequencialCompra/atas/{sequencialAta}/arquivos\n",
        "# 01612781000138-1-000020/2022-000001\n",
        "cnpj=df.numeroControlePNCPAta.str[:14]\n",
        "sequencialCompra=df.numeroControlePNCPAta.str[17:23]\n",
        "anoCompra=df.numeroControlePNCPAta.str[24:28]\n",
        "sequencialAta=df.numeroControlePNCPAta.str[29:35]\n",
        "DocAta=pd.DataFrame([cnpj,anoCompra, sequencialCompra,sequencialAta])\n",
        "DocAta = DocAta.transpose() \n",
        "DocAta.columns = ['cnpj','anoCompra','sequencialCompra','sequencialAta']\n",
        "DocAta\n",
        "\n",
        "\n",
        "\n",
        "\n"
      ]
    },
    {
      "cell_type": "code",
      "execution_count": 33,
      "metadata": {},
      "outputs": [
        {
          "data": {
            "text/plain": [
              "(263, 1)"
            ]
          },
          "execution_count": 33,
          "metadata": {},
          "output_type": "execute_result"
        }
      ],
      "source": [
        "urlAtas.shape"
      ]
    },
    {
      "cell_type": "code",
      "execution_count": 25,
      "metadata": {},
      "outputs": [],
      "source": [
        "i=2\n",
        "DocAta.loc[i, 'cnpj']\n",
        "numLinhas=DocAta.shape[0]\n",
        "\n"
      ]
    },
    {
      "cell_type": "code",
      "execution_count": 34,
      "metadata": {},
      "outputs": [
        {
          "data": {
            "text/plain": [
              "(263, 12)"
            ]
          },
          "execution_count": 34,
          "metadata": {},
          "output_type": "execute_result"
        }
      ],
      "source": [
        "data.shape"
      ]
    },
    {
      "cell_type": "code",
      "execution_count": 35,
      "metadata": {},
      "outputs": [],
      "source": [
        "numLinhas=DocAta.shape[0]\n",
        "urlAtas=[]\n",
        "#urlAtasHistoricas=[]\n",
        "for i in range(numLinhas):\n",
        "    cnpj=DocAta.loc[i, 'cnpj']\n",
        "    anoCompra=DocAta.loc[i, 'anoCompra']\n",
        "    sequencialCompra=DocAta.loc[i, 'sequencialCompra']\n",
        "    sequencialAta=DocAta.loc[i, 'sequencialAta']\n",
        "\n",
        "    url1 = f'https://pncp.gov.br/api/pncp/v1/orgaos/{cnpj}/compras/{anoCompra}/{sequencialCompra}/atas/{sequencialAta}/arquivos'\n",
        "    #url_historico = f'https://pncp.gov.br/api/pncp//v1/orgaos/{cnpj}/compras/{anoCompra}/{sequencialCompra}/atas/{sequencialAta}/historico'\n",
        "   #url = f'https://pncp.gov.br/api/pncp/v1/orgaos/00394452000103/compras/2024/011953/atas/000003/arquivos' \n",
        "    #https://pncp.gov.br/api/pncp//v1/orgaos/00394452000103/compras/2024/011953/atas/000003/historico\n",
        "    \n",
        "    # esta URL foi gerada a partir da consulta por órgão no swagger\n",
        "    #temp=url1[0]['url']\n",
        "    response = requests.get(url1, verify=True, headers=chave)\n",
        "    #response2 = requests.get(url_historico, verify=True, headers=chave)\n",
        "    \n",
        "    #response = requests.get(url1)\n",
        "\n",
        "    #print(response.text)\n",
        "\n",
        "    # Verifica se o tipo de conteúdo é JSON\n",
        "    \n",
        "    if 'application/json' in response.headers.get('Content-Type', ''):\n",
        "        if response.content:\n",
        "            #data = response.json()  # Tenta parsear como JSON\n",
        "            temp = response.json()\n",
        "            temp=temp[0]['url']\n",
        "            #print(temp)\n",
        "        else:\n",
        "            temp=\"\"        \n",
        "    else:\n",
        "        temp=\"\"\n",
        "    urlAtas.append(temp)\n",
        "    #print(i)\n",
        "    \n",
        "    \n",
        "    \n",
        "\n",
        "    # aqui, fazemos a consulta e obtemos o resultado para cada ano em JSON\n",
        "    "
      ]
    },
    {
      "cell_type": "code",
      "execution_count": null,
      "metadata": {},
      "outputs": [],
      "source": [
        "response = requests.get(url1)\n",
        "    #print(response.text)\n",
        "\n",
        "    # Verifica se o tipo de conteúdo é JSON\n",
        "    \n",
        "    if 'application/json' in response.headers.get('Content-Type', ''):\n",
        "        if response.content:\n",
        "            #data = response.json()  # Tenta parsear como JSON\n",
        "            temp = requests.get(url1, verify=True,headers=chave).json()\n",
        "            temp=temp[0]['url']\n",
        "            print(temp)\n",
        "        else:\n",
        "            temp=\"\"        \n",
        "    else:\n",
        "        temp=\"\"\n",
        "    urlAtas.append(temp)\n",
        "    #print(i)\n",
        "    \n",
        "    \n",
        "    \n",
        "\n",
        "    # aqui, fazemos a consulta e obtemos o resultado para cada ano em JSON\n",
        "    "
      ]
    },
    {
      "cell_type": "code",
      "execution_count": 37,
      "metadata": {},
      "outputs": [],
      "source": [
        "df_urlAtas=pd.DataFrame(urlAtas)\n",
        "\n",
        "\n",
        "\n"
      ]
    },
    {
      "cell_type": "code",
      "execution_count": null,
      "metadata": {},
      "outputs": [],
      "source": [
        "https://pncp.gov.br/api/pncp/v1/orgaos/01612781000138/compras/2022/000021/atas/000001/arquivos"
      ]
    },
    {
      "cell_type": "code",
      "execution_count": 41,
      "metadata": {},
      "outputs": [
        {
          "data": {
            "text/html": [
              "<div>\n",
              "<style scoped>\n",
              "    .dataframe tbody tr th:only-of-type {\n",
              "        vertical-align: middle;\n",
              "    }\n",
              "\n",
              "    .dataframe tbody tr th {\n",
              "        vertical-align: top;\n",
              "    }\n",
              "\n",
              "    .dataframe thead th {\n",
              "        text-align: right;\n",
              "    }\n",
              "</style>\n",
              "<table border=\"1\" class=\"dataframe\">\n",
              "  <thead>\n",
              "    <tr style=\"text-align: right;\">\n",
              "      <th></th>\n",
              "      <th>dataPublicacaoPncp</th>\n",
              "      <th>numeroControlePNCPAta</th>\n",
              "      <th>numeroControlePNCPCompra</th>\n",
              "      <th>anoAta</th>\n",
              "      <th>numeroAtaRegistroPreco</th>\n",
              "      <th>vigenciaInicio</th>\n",
              "      <th>vigenciaFim</th>\n",
              "      <th>usuario</th>\n",
              "      <th>objetoContratacao</th>\n",
              "      <th>codigoUnidadeOrgao</th>\n",
              "      <th>nomeOrgao</th>\n",
              "      <th>nomeUnidadeOrgao</th>\n",
              "    </tr>\n",
              "  </thead>\n",
              "  <tbody>\n",
              "    <tr>\n",
              "      <th>0</th>\n",
              "      <td>2023-05-30</td>\n",
              "      <td>00394502000144-1-001956/2023-000001</td>\n",
              "      <td>00394502000144-1-001956/2023</td>\n",
              "      <td>2023</td>\n",
              "      <td>00036</td>\n",
              "      <td>2023-05-31</td>\n",
              "      <td>2025-05-31</td>\n",
              "      <td>Contratos.gov.br</td>\n",
              "      <td>Registro de preços para a eventual aquisição d...</td>\n",
              "      <td>711000</td>\n",
              "      <td>COMANDO DA MARINHA</td>\n",
              "      <td>GABINETE DO COMANDANTE DA MARINHA</td>\n",
              "    </tr>\n",
              "    <tr>\n",
              "      <th>1</th>\n",
              "      <td>2023-06-05</td>\n",
              "      <td>00394452000103-1-002876/2023-000001</td>\n",
              "      <td>00394452000103-1-002876/2023</td>\n",
              "      <td>2023</td>\n",
              "      <td>00001</td>\n",
              "      <td>2023-06-06</td>\n",
              "      <td>2025-06-06</td>\n",
              "      <td>Contratos.gov.br</td>\n",
              "      <td>Serviço de manutenção de bens imóveis.</td>\n",
              "      <td>160515</td>\n",
              "      <td>COMANDO DO EXERCITO</td>\n",
              "      <td>COMANDO DA 2ª BRIGADA DE INFANTARIA DE SELVA</td>\n",
              "    </tr>\n",
              "    <tr>\n",
              "      <th>2</th>\n",
              "      <td>2023-06-26</td>\n",
              "      <td>04801221000110-1-000076/2023-000001</td>\n",
              "      <td>04801221000110-1-000076/2023</td>\n",
              "      <td>2023</td>\n",
              "      <td>00002</td>\n",
              "      <td>2023-06-15</td>\n",
              "      <td>2025-06-14</td>\n",
              "      <td>Contratos.gov.br</td>\n",
              "      <td>Registro de Preço para Futura e Eventual Contr...</td>\n",
              "      <td>450522</td>\n",
              "      <td>TRIBUNAL DE CONTAS DO ESTADO DE RONDONIA</td>\n",
              "      <td>PREFEITURA DO MUNICIPIO DE ARIQUEMES</td>\n",
              "    </tr>\n",
              "    <tr>\n",
              "      <th>3</th>\n",
              "      <td>2023-06-28</td>\n",
              "      <td>00508903000188-1-000387/2023-000005</td>\n",
              "      <td>00508903000188-1-000387/2023</td>\n",
              "      <td>2023</td>\n",
              "      <td>00027</td>\n",
              "      <td>2023-06-29</td>\n",
              "      <td>2025-06-29</td>\n",
              "      <td>Contratos.gov.br</td>\n",
              "      <td>Aquisição de equipamentos diversos (forno micr...</td>\n",
              "      <td>090016</td>\n",
              "      <td>JUSTICA FEDERAL DE PRIMEIRA INSTANCIA</td>\n",
              "      <td>JUSTICA FEDERAL DE 1A. INSTANCIA - RJ</td>\n",
              "    </tr>\n",
              "    <tr>\n",
              "      <th>4</th>\n",
              "      <td>2023-06-28</td>\n",
              "      <td>10742006000198-1-000012/2023-000001</td>\n",
              "      <td>10742006000198-1-000012/2023</td>\n",
              "      <td>2023</td>\n",
              "      <td>00001</td>\n",
              "      <td>2023-06-29</td>\n",
              "      <td>2025-06-29</td>\n",
              "      <td>Contratos.gov.br</td>\n",
              "      <td>Contratação de Serviço Especializado para asse...</td>\n",
              "      <td>158131</td>\n",
              "      <td>INSTITUTO FEDERAL DE EDUCACAO, CIENCIA E TECNO...</td>\n",
              "      <td>INST.FED.DE EDUC.,CIENC. E TEC.DO TOCANTINS</td>\n",
              "    </tr>\n",
              "  </tbody>\n",
              "</table>\n",
              "</div>"
            ],
            "text/plain": [
              "  dataPublicacaoPncp                numeroControlePNCPAta  \\\n",
              "0         2023-05-30  00394502000144-1-001956/2023-000001   \n",
              "1         2023-06-05  00394452000103-1-002876/2023-000001   \n",
              "2         2023-06-26  04801221000110-1-000076/2023-000001   \n",
              "3         2023-06-28  00508903000188-1-000387/2023-000005   \n",
              "4         2023-06-28  10742006000198-1-000012/2023-000001   \n",
              "\n",
              "       numeroControlePNCPCompra anoAta numeroAtaRegistroPreco vigenciaInicio  \\\n",
              "0  00394502000144-1-001956/2023   2023                  00036     2023-05-31   \n",
              "1  00394452000103-1-002876/2023   2023                  00001     2023-06-06   \n",
              "2  04801221000110-1-000076/2023   2023                  00002     2023-06-15   \n",
              "3  00508903000188-1-000387/2023   2023                  00027     2023-06-29   \n",
              "4  10742006000198-1-000012/2023   2023                  00001     2023-06-29   \n",
              "\n",
              "  vigenciaFim           usuario  \\\n",
              "0  2025-05-31  Contratos.gov.br   \n",
              "1  2025-06-06  Contratos.gov.br   \n",
              "2  2025-06-14  Contratos.gov.br   \n",
              "3  2025-06-29  Contratos.gov.br   \n",
              "4  2025-06-29  Contratos.gov.br   \n",
              "\n",
              "                                   objetoContratacao codigoUnidadeOrgao  \\\n",
              "0  Registro de preços para a eventual aquisição d...             711000   \n",
              "1             Serviço de manutenção de bens imóveis.             160515   \n",
              "2  Registro de Preço para Futura e Eventual Contr...             450522   \n",
              "3  Aquisição de equipamentos diversos (forno micr...             090016   \n",
              "4  Contratação de Serviço Especializado para asse...             158131   \n",
              "\n",
              "                                           nomeOrgao  \\\n",
              "0                                 COMANDO DA MARINHA   \n",
              "1                                COMANDO DO EXERCITO   \n",
              "2           TRIBUNAL DE CONTAS DO ESTADO DE RONDONIA   \n",
              "3              JUSTICA FEDERAL DE PRIMEIRA INSTANCIA   \n",
              "4  INSTITUTO FEDERAL DE EDUCACAO, CIENCIA E TECNO...   \n",
              "\n",
              "                               nomeUnidadeOrgao  \n",
              "0             GABINETE DO COMANDANTE DA MARINHA  \n",
              "1  COMANDO DA 2ª BRIGADA DE INFANTARIA DE SELVA  \n",
              "2          PREFEITURA DO MUNICIPIO DE ARIQUEMES  \n",
              "3         JUSTICA FEDERAL DE 1A. INSTANCIA - RJ  \n",
              "4   INST.FED.DE EDUC.,CIENC. E TEC.DO TOCANTINS  "
            ]
          },
          "execution_count": 41,
          "metadata": {},
          "output_type": "execute_result"
        }
      ],
      "source": [
        "df=pd.DataFrame(data, df_urlAtas)\n",
        "df = pd.concat([data, df_urlAtas], axis=1)\n",
        "\n",
        "df.to_excel(\"output.xlsx\",sheet_name='Sheet_name_1')  \n",
        "\n",
        "data.head()\n",
        "\n",
        "\n",
        "\n",
        "\n"
      ]
    },
    {
      "cell_type": "markdown",
      "metadata": {
        "id": "kmoBbFWnuoeL"
      },
      "source": [
        "## 6.3.8. Consultar Todos Documentos de uma Contratação\n"
      ]
    },
    {
      "cell_type": "code",
      "execution_count": null,
      "metadata": {
        "id": "RzfTwAcfzCX6"
      },
      "outputs": [],
      "source": [
        "# Vamos definir os termos de nossa consulta\n",
        "\n",
        "ano=2019 # você pode mudar o ano de acordo com a necessidade\n",
        "subfuncao=542 #código referente a \"controle ambiental\""
      ]
    },
    {
      "cell_type": "code",
      "execution_count": null,
      "metadata": {
        "colab": {
          "base_uri": "https://localhost:8080/",
          "height": 35
        },
        "id": "coO76S2ztwH4",
        "outputId": "cc054ac0-f977-469b-beb3-670cc4c77ca3"
      },
      "outputs": [],
      "source": [
        "url = f'http://www.transparencia.gov.br/api-de-dados/despesas/por-funcional-programatica?ano={ano}&subfuncao={subfuncao}'\n",
        "# a base desta URL foi gerada no Swagger. com o comando acima, estamos \"colando\" os valores definidos anteriormente nas partes adequadas da URL\n",
        "\n",
        "url"
      ]
    },
    {
      "cell_type": "markdown",
      "metadata": {},
      "source": [
        "## 6.4.4. Consultar Atas de Registro de Preço por Compra"
      ]
    },
    {
      "cell_type": "code",
      "execution_count": null,
      "metadata": {
        "colab": {
          "base_uri": "https://localhost:8080/",
          "height": 1000
        },
        "id": "E-Q2QKIBubNg",
        "outputId": "5ca5b00c-4efd-4823-913a-a7608406f9aa"
      },
      "outputs": [],
      "source": [
        "/v1/orgaos/{cnpj}/compras/{anoCompra}/{sequencialCompra}/atas\n",
        "\n",
        "\n",
        "\n",
        "numLinhas=DocAta.shape[0]\n",
        "urlAtasPorCompras=[]\n",
        "#urlAtasHistoricas=[]\n",
        "for i in range(numLinhas):\n",
        "    cnpj=DocAta.loc[i, 'cnpj']\n",
        "    anoCompra=DocAta.loc[i, 'anoCompra']\n",
        "    sequencialCompra=DocAta.loc[i, 'sequencialCompra']\n",
        "    \n",
        "    url = f'https://pncp.gov.br/api/pncp/v1/orgaos/{cnpj}/compras/{anoCompra}/{sequencialCompra}/atas'\n",
        "    #url_historico = f'https://pncp.gov.br/api/pncp//v1/orgaos/{cnpj}/compras/{anoCompra}/{sequencialCompra}/atas/{sequencialAta}/historico'\n",
        "   #url = f'https://pncp.gov.br/api/pncp/v1/orgaos/00394452000103/compras/2024/011953/atas/000003/arquivos' \n",
        "    #https://pncp.gov.br/api/pncp//v1/orgaos/00394452000103/compras/2024/011953/atas/000003/historico\n",
        "    \n",
        "    # esta URL foi gerada a partir da consulta por órgão no swagger\n",
        "    #temp=url1[0]['url']\n",
        "    response = requests.get(url, verify=True, headers=chave)\n",
        "    \n",
        "\n",
        "    # Verifica se o tipo de conteúdo é JSON\n",
        "    if 'application/json' in response.headers.get('Content-Type', ''):\n",
        "        data = response.json()  # Tenta parsear como JSON\n",
        "        temp = requests.get(url, verify=True,headers=chave).json()\n",
        "        temp=temp[0]['url']\n",
        "    else:\n",
        "        temp=\"\"\n",
        "    urlAtasPorCompras.append(temp)\n",
        "    urlAtasPorCompras"
      ]
    },
    {
      "cell_type": "code",
      "execution_count": null,
      "metadata": {},
      "outputs": [],
      "source": [
        "data = pd.DataFrame([dataPublicacaoPncp,numeroControlePNCPAta,numeroControlePNCPCompra,anoAta, numeroAtaRegistroPreco,\n",
        "                      vigenciaInicio,vigenciaFim,usuario,objetoContratacao,codigoUnidadeOrgao,nomeOrgao,nomeUnidadeOrgao,urlAtas]) # Each list would be added as a row\n",
        "data = data.transpose() \n",
        "data.columns = ['dataPublicacaoPncp','numeroControlePNCPAta','numeroControlePNCPCompra','anoAta', 'numeroAtaRegistroPreco',\n",
        "                      'vigenciaInicio','vigenciaFim','usuario','objetoContratacao','codigoUnidadeOrgao','nomeOrgao','nomeUnidadeOrgao','urlAtas']\n",
        " # Rename the\n",
        "\n",
        "\n",
        "data.to_excel(\"output.xlsx\",sheet_name='Sheet_name_1')  \n"
      ]
    },
    {
      "cell_type": "markdown",
      "metadata": {
        "id": "6l4ozMaheo37"
      },
      "source": [
        "Temos o nosso resultado! Mas... precisamos fazer uma iteração para coletar todas as páginas, não apenas a primeira."
      ]
    },
    {
      "cell_type": "code",
      "execution_count": null,
      "metadata": {
        "colab": {
          "base_uri": "https://localhost:8080/",
          "height": 119
        },
        "id": "GK6t8QzKwIcJ",
        "outputId": "6d0698d6-5752-405f-ac52-4bfe8f4cc5c8"
      },
      "outputs": [],
      "source": [
        "# Vamos definir aqui a página inicial e o tamanho do registro que obtemos da API. Se ele for zero, a iteração irá parar.\n",
        "page = 1\n",
        "tamanho = len(registro)\n",
        "\n",
        "# E vamos armazenar as informações de todas as páginas chamando a de \"dados\"\n",
        "dados = []\n",
        "\n",
        "# Aqui a iteração que irá percorrer as páginas\n",
        "while(tamanho>0):\n",
        "    print('Baixando a página', page, ' do link:', url+f'&pagina={page}')\n",
        "    registro = requests.get(url+f'&pagina={page}',headers=chave).json()\n",
        "    tamanho = len(registro)\n",
        "    # Se a resposta for válida, vamos juntar o registro da página atual com os dados já coletados\n",
        "    if tamanho > 0:\n",
        "      dados = dados + registro\n",
        "      page = page + 1\n",
        "      print('O tamanho da última resposta foi',tamanho,'. Iremos seguir em frente!')\n",
        "    else:\n",
        "      print('A última requisição veio vazia. Paramos por aqui.')\n"
      ]
    },
    {
      "cell_type": "code",
      "execution_count": null,
      "metadata": {
        "id": "_8niXpCxvXRG"
      },
      "outputs": [],
      "source": [
        "# Vamos transformar o JSON em um dataframe do pandas\n",
        "df = pd.DataFrame(dados)"
      ]
    },
    {
      "cell_type": "code",
      "execution_count": null,
      "metadata": {
        "colab": {
          "base_uri": "https://localhost:8080/",
          "height": 289
        },
        "id": "BlUqCxb8ub3c",
        "outputId": "139252b3-42e2-467d-a459-8d02d769c47d"
      },
      "outputs": [],
      "source": [
        "# Vamos conferir os 5 últimos registros (útil para checar se todos os dados foram importados)\n",
        "df.tail(5)"
      ]
    },
    {
      "cell_type": "markdown",
      "metadata": {
        "id": "An8hdG961Cdd"
      },
      "source": [
        "Por fim, vamos agrupar os valores empenhados por programa e função. Para isso, precisaremos converter esta coluna para número."
      ]
    },
    {
      "cell_type": "code",
      "execution_count": null,
      "metadata": {
        "id": "CsJ4dSvXmiKH"
      },
      "outputs": [],
      "source": [
        "# Aqui vamos salvar nosso resultado como um CSV e reimportá-lo especificando que os números estão no formato brasileiro\n",
        "df.to_csv('arquivo.csv')"
      ]
    },
    {
      "cell_type": "code",
      "execution_count": null,
      "metadata": {
        "id": "bfvGGLi7nNEt"
      },
      "outputs": [],
      "source": [
        "# Desabilita notação científica\n",
        "pd.set_option('display.float_format', lambda x: '%.3f' % x)\n",
        "\n",
        "df = pd.read_csv('arquivo.csv', decimal=',', thousands='.')"
      ]
    },
    {
      "cell_type": "code",
      "execution_count": null,
      "metadata": {
        "colab": {
          "base_uri": "https://localhost:8080/",
          "height": 421
        },
        "id": "6ZPcdMD8z-2K",
        "outputId": "fba5ce4e-536a-4887-bde4-81bbdd3febb4"
      },
      "outputs": [],
      "source": [
        "df_por_programa = pd.pivot_table(df,\n",
        "                              values='empenhado',\n",
        "                              index=['programa'],\n",
        "                              columns='funcao',\n",
        "                              aggfunc=np.sum)\n",
        "\n",
        "df_por_programa"
      ]
    }
  ],
  "metadata": {
    "colab": {
      "include_colab_link": true,
      "provenance": []
    },
    "kernelspec": {
      "display_name": "Python 3",
      "name": "python3"
    },
    "language_info": {
      "codemirror_mode": {
        "name": "ipython",
        "version": 3
      },
      "file_extension": ".py",
      "mimetype": "text/x-python",
      "name": "python",
      "nbconvert_exporter": "python",
      "pygments_lexer": "ipython3",
      "version": "3.12.4"
    }
  },
  "nbformat": 4,
  "nbformat_minor": 0
}
