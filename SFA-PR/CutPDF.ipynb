{
 "cells": [
  {
   "cell_type": "code",
   "execution_count": 5,
   "id": "97a3accb-a547-4bbb-a52a-a859ef3860fa",
   "metadata": {},
   "outputs": [
    {
     "name": "stderr",
     "output_type": "stream",
     "text": [
      "ERROR: Could not find a version that satisfies the requirement shutil (from versions: none)\n",
      "ERROR: No matching distribution found for shutil\n"
     ]
    }
   ],
   "source": [
    "!pip install shutil"
   ]
  },
  {
   "cell_type": "code",
   "execution_count": 3,
   "id": "8be4950a-20ba-40f1-be3d-65294abe92a3",
   "metadata": {},
   "outputs": [],
   "source": [
    "from PyPDF2 import PdfReader, PdfWriter\n",
    "\n",
    "file_name = r'COMPILADO_DOCS-LIC-900022024-SEI_21000.025794_2024_70.pdf'\n",
    "pages = (1, 2)\n",
    "\n",
    "reader = PdfReader(file_name)\n",
    "writer = PdfWriter()\n",
    "page_range = range(pages[0], pages[1] + 1)\n",
    "\n",
    "for page_num, page in enumerate(reader.pages, 1):\n",
    "    if page_num in page_range:\n",
    "        writer.add_page(page)\n",
    "\n",
    "with open(f'{file_name}_page_{pages[0]}-{pages[1]}.pdf', 'wb') as out:\n",
    "    writer.write(out)\n",
    "\n"
   ]
  },
  {
   "cell_type": "code",
   "execution_count": null,
   "id": "398fdc36-4038-4a8b-9744-26af6de68edb",
   "metadata": {},
   "outputs": [],
   "source": []
  }
 ],
 "metadata": {
  "kernelspec": {
   "display_name": "Python 3 (ipykernel)",
   "language": "python",
   "name": "python3"
  },
  "language_info": {
   "codemirror_mode": {
    "name": "ipython",
    "version": 3
   },
   "file_extension": ".py",
   "mimetype": "text/x-python",
   "name": "python",
   "nbconvert_exporter": "python",
   "pygments_lexer": "ipython3",
   "version": "3.12.4"
  }
 },
 "nbformat": 4,
 "nbformat_minor": 5
}
