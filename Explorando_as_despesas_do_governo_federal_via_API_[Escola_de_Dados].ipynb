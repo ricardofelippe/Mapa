{
  "nbformat": 4,
  "nbformat_minor": 0,
  "metadata": {
    "colab": {
      "provenance": []
    },
    "kernelspec": {
      "name": "python3",
      "display_name": "Python 3"
    }
  },
  "cells": [
    {
      "cell_type": "markdown",
      "metadata": {
        "id": "RpIICuxKfuh_"
      },
      "source": [
        "# Gastos públicos federais via API - Despesas e contratos\n",
        "\n",
        "Este tutorial é baseado no workshop realizado por Fernanda Campagnucci, diretora-executiva da Open Knowledge Brasil, no Coda.Br 2019. O notebook foi atualizado por Adriano Belisário em setembro de 2020."
      ]
    },
    {
      "cell_type": "markdown",
      "metadata": {
        "id": "lJstFeWdXIK_"
      },
      "source": [
        "## API x Bases de Dados\n",
        "---\n",
        "\n",
        "Quem não tem fluência em programação, pode pasar por uma certa curva de aprendizagem para começar a usar APIs (*Application Programming Interface*). Em alguns casos, porém, você pode ganhar muito tempo se optar por consumir os dados via API, mesmo que demore mais para criar seu código pela primeira vez.\n",
        "\n",
        "Confira abaixo uma comparação sobre as duas formas de acessar os dados. Mas atenção: essa comparação não é geral, ela se aplica especificamente ao Portal da Transparência do Governo Federal e à maneira como os dados estão disponibilizados hoje."
      ]
    },
    {
      "cell_type": "markdown",
      "metadata": {
        "id": "d2-tMprkXRbe"
      },
      "source": [
        "| Situação                       |   API           | Download de CSV  |\n",
        "| :-------------                 | :-------------  | :------------- |\n",
        "| Preciso de uma série histórica grande| +               | +++++          |\n",
        "| Não faço pauta desse tema com frequência | ++               | +++++|\n",
        "| Quero monitorar um assunto/cnpj/órgão etc | +++++               | +          |\n",
        "| Quero conectar em um site ou visualização | ++++               | ++      |\n",
        "| *Que outras situações ocorrem a vocês?* |               |      |\n",
        "\n",
        "\n"
      ]
    },
    {
      "cell_type": "markdown",
      "metadata": {
        "id": "Pn9MOxZHfYPv"
      },
      "source": [
        "### Onde encontrar?\n",
        "\n",
        "Para conhecer os dados disponíveis, sistema de origem, órgão responsável, periodicidade e data de atualização do Portal (download e API):\n",
        "\n",
        "http://transparencia.gov.br/origem-dos-dados\n",
        "\n",
        "- **Acesso via API**\n",
        "\n",
        "http://www.transparencia.gov.br/swagger-ui.html\n",
        "\n",
        "O Swagger é uma feramenta que documenta e permite explorar o conteúdo. Iremos falar mais sobre ela abaixo.\n",
        "\n",
        "- **Bases para download**\n",
        "\n",
        "http://transparencia.gov.br/download-de-dados\n",
        "\n",
        "https://brasil.io/dataset/gastos-diretos/gastos (coletado e tratado por Álvaro Justen (Turicas) - tenha atenção para as datas de atualização no site)\n"
      ]
    },
    {
      "cell_type": "markdown",
      "metadata": {
        "id": "HYTBi12kg33E"
      },
      "source": [
        "## Planejamento e orçamento público\n",
        "---\n",
        "\n",
        "Agora que já sabemos onde encontrar os dados, vamos revisar algumas noções básicas sobre orçamento público, a começar com o diagrama abaixo, que é bastante didático e representa as etapas de elaboração das políticas públicas.\n",
        "\n",
        "\n",
        "![O governo define prioridades que originam programas estruturados em ações, que objetivam resultados e metas, atingidos por meio da aquisição de bens e serviços, que são previstas em dotações orçamentárias. Fonte: Adaptado da aula da profa. Ursula Peres e Fabio Pereira (2016)](http://umdadoamais.com/wp-content/uploads/2019/11/tutorial_orcamento1-e1574301837420.png)\n",
        "\n",
        "\n"
      ]
    },
    {
      "cell_type": "markdown",
      "metadata": {
        "id": "Q0ftyqomnhq3"
      },
      "source": [
        "### Princípios do Orçamento\n",
        "\n",
        "O orçamento público deve observar um conjunto de princípios presentes na Constituição e nas leis que regem o processo orçamentário no Brasil, em especial a Lei nº 4.320/1964 e a Lei nº 101/2000.\n",
        "\n",
        "![alt text](http://umdadoamais.com/wp-content/uploads/2019/11/tutorial_orcamento2.png)\n"
      ]
    },
    {
      "cell_type": "markdown",
      "metadata": {
        "id": "t9Xhdz-mwYOg"
      },
      "source": [
        "### Classificações de Despesa\n",
        "\n",
        "Cada despesa do governo federal é classificada de acordo com os seguintes critérios.\n",
        "\n",
        "![alt text](http://umdadoamais.com/wp-content/uploads/2019/11/tutorial_orcamento3.png)\n",
        "\n",
        "Cada item da segunda coluna é representada por um código, que traz um identificador relacionado à despesa. Vejamos o exemplo abaixo.\n"
      ]
    },
    {
      "cell_type": "markdown",
      "metadata": {
        "id": "-yVFqa-EPDDl"
      },
      "source": [
        "![alt text](http://umdadoamais.com/wp-content/uploads/2019/11/Screen-Shot-2019-11-23-at-00.59.24.png)"
      ]
    },
    {
      "cell_type": "markdown",
      "metadata": {
        "id": "WII6A77Z2QMH"
      },
      "source": [
        "Vamos fazer nosso primeiro exercício no Swagger? Com a [chave de acesso (**clique aqui para criar uma - esta etapa é fundamental para os próximos passos**)](http://www.portaldatransparencia.gov.br/api-de-dados/cadastrar-email) em mãos, entre na página a seguir e role a página até encontrar o formulário abaixo, que irá permitir consultarmos as despesas do Governo Federal de acordo com a função (o item verde escuro na ilustração acima): http://www.transparencia.gov.br/swagger-ui.html#!/Despesas32P250blicas/despesasPorFuncaoUsingGET"
      ]
    },
    {
      "cell_type": "markdown",
      "metadata": {
        "id": "rU3zqhYscCtU"
      },
      "source": [
        "![alt text](http://umdadoamais.com/wp-content/uploads/2019/11/tutorial_orcamento6.png)\n",
        "\n",
        "Preencha os campos com as informações acima e clique no botão 'Tente agora!'. Você deve ver o resultado em formato JSON, como na imagem abaixo. Além disso, preste atenção também no campo 'URL requisição'. Iremos utilizá-lo posteriormente, quando incorporarmos a URL da consulta desejada no código.\n",
        "\n",
        "![alt text](http://umdadoamais.com/wp-content/uploads/2019/11/tutorial_orcamento7.png)"
      ]
    },
    {
      "cell_type": "markdown",
      "metadata": {
        "id": "H0q3h6Jac5-1"
      },
      "source": [
        "Para fins comparativos, imagine a mesma consulta, mas utilizando o download dos arquivos CSVs, ao invés da API. Neste caso, o trabalho seria bem maior. De forma resumida, seria preciso baixar cada mês e juntar todas bases, depois filtrar os valores desejados nas colunas e, enfim, somar os números registrados nos campos de valores empenhado, liquidado e pago."
      ]
    },
    {
      "cell_type": "markdown",
      "metadata": {
        "id": "DOjctxrsXAs9"
      },
      "source": [
        "## Mais referências\n",
        "Para mais detalhes, vale a pena conferir esta documentação sobre o orçamento federal, que é frequentemente atualizada pelo governo no [Manual Técnico do Orçamento Federal](https://www1.siop.planejamento.gov.br/mto/lib/exe/fetch.php/mto2020:mto2020-versao5.pdf).(MTO 2020)\n",
        "\n",
        "\n",
        "Há também um material do INESC, que explica o orçamento e sua relação com direitos humanos, na [Cartilha Orçamento e Direitos](https://www.inesc.org.br/orcamento-direitos-2018-2/) (2018)."
      ]
    },
    {
      "cell_type": "markdown",
      "metadata": {
        "id": "Ytu-ELgX6RTY"
      },
      "source": [
        "# Acessando a API\n",
        "\n",
        "---\n",
        "\n"
      ]
    },
    {
      "cell_type": "markdown",
      "metadata": {
        "id": "tC56uKrrVaox"
      },
      "source": [
        "Agora que já compreendemos o básico sobre como as despesas do governo federal são registradas, vamos colocar a mão na massa rodando alguns códigos em Python.\n",
        "\n",
        "Iremos começar importando os pacotes que iremos utilizar.\n",
        "\n",
        "Clique no botão de \"Play\" abaixo para executar o código. Se nenhum erro aparecer, então, deu tudo certo :)"
      ]
    },
    {
      "cell_type": "code",
      "metadata": {
        "id": "aBAeTjUGtl8c"
      },
      "source": [
        "import pandas as pd\n",
        "import requests\n",
        "import json\n",
        "import numpy as np"
      ],
      "execution_count": null,
      "outputs": []
    },
    {
      "cell_type": "markdown",
      "metadata": {
        "id": "2tFbhnNyd-V1"
      },
      "source": [
        "### Despesas\n",
        "\n",
        "Nosso primeiro exercício será coletar uma série histórica de despesas do Ministério do Meio Ambiente (um órgão superior, identificado pelo número 44000), utilizando um loop que irá consultar uma certa URL para cada ano entre 2016 e 2020.\n",
        "\n",
        "Para descobrir o identificador de outros órgãos, você pode consultar o item 8.2 do [Manual Técnico do Orçamento](https://www1.siop.planejamento.gov.br/mto/lib/exe/fetch.php/mto2020:mto2020-versao5.pdf#page=153).\n",
        "\n",
        "E é fundamental inserir uma [chave válida](http://www.portaldatransparencia.gov.br/api-de-dados/cadastrar-email) na variável abaixo.\n"
      ]
    },
    {
      "cell_type": "code",
      "metadata": {
        "id": "BSGjCUn5eToT"
      },
      "source": [
        "# Troque os caracteres abaixo por uma chave válida, criada com seu email, usando o endereço abaixo\n",
        "# http://www.portaldatransparencia.gov.br/api-de-dados/cadastrar-email\n",
        "minha_chave = 'd5de2cc19k89e590942ecb630399a523'\n",
        "\n",
        "# para conseguir acessar a API, precisamos incluir no cabeçalho da requisição a nossa chave, que definimos anteriormente. Não é necessário alterar essa variável.\n",
        "chave = {'chave-api-dados':minha_chave}"
      ],
      "execution_count": null,
      "outputs": []
    },
    {
      "cell_type": "code",
      "metadata": {
        "id": "5ia0z_yGiLnV"
      },
      "source": [
        "serie_orgao = []\n",
        "\n",
        "# O loop abaixo irá tomar como ponto de partido o intervalo de números entre 2019 e e 2019, incluindo estes dois.\n",
        "\n",
        "for ano in range(2016, 2019):\n",
        "\n",
        "    url = f'http://www.transparencia.gov.br/api-de-dados/despesas/por-orgao?ano={ano}&orgaoSuperior=44000&pagina=1'\n",
        "    # esta URL foi gerada a partir da consulta por órgão no swagger\n",
        "\n",
        "    # aqui, fazemos a consulta e obtemos o resultado para cada ano em JSON\n",
        "    r_orgao = requests.get(url, verify=True,headers=chave).json()\n",
        "\n",
        "    # e aqui juntamos os resultados de cada ano em uma série histórica do órgão\n",
        "    serie_orgao = serie_orgao + r_orgao"
      ],
      "execution_count": null,
      "outputs": []
    },
    {
      "cell_type": "code",
      "metadata": {
        "id": "CTLgahsMkacV",
        "outputId": "1e2eccb3-c3ae-40f6-e597-f80fade70d91",
        "colab": {
          "base_uri": "https://localhost:8080/",
          "height": 204
        }
      },
      "source": [
        "# Transformamos os resultados - que vieram em formato JSON - em um dataframe\n",
        "df_serie_orgao = pd.DataFrame(serie_orgao)\n",
        "\n",
        "# E agora visualizamos os últimos 5 registros desta base de dados\n",
        "df_serie_orgao.tail(5)"
      ],
      "execution_count": null,
      "outputs": [
        {
          "output_type": "execute_result",
          "data": {
            "text/html": [
              "<div>\n",
              "<style scoped>\n",
              "    .dataframe tbody tr th:only-of-type {\n",
              "        vertical-align: middle;\n",
              "    }\n",
              "\n",
              "    .dataframe tbody tr th {\n",
              "        vertical-align: top;\n",
              "    }\n",
              "\n",
              "    .dataframe thead th {\n",
              "        text-align: right;\n",
              "    }\n",
              "</style>\n",
              "<table border=\"1\" class=\"dataframe\">\n",
              "  <thead>\n",
              "    <tr style=\"text-align: right;\">\n",
              "      <th></th>\n",
              "      <th>ano</th>\n",
              "      <th>orgao</th>\n",
              "      <th>codigoOrgao</th>\n",
              "      <th>orgaoSuperior</th>\n",
              "      <th>codigoOrgaoSuperior</th>\n",
              "      <th>empenhado</th>\n",
              "      <th>liquidado</th>\n",
              "      <th>pago</th>\n",
              "    </tr>\n",
              "  </thead>\n",
              "  <tbody>\n",
              "    <tr>\n",
              "      <th>13</th>\n",
              "      <td>2018</td>\n",
              "      <td>Instituto Chico Mendes de Conservação da Biodi...</td>\n",
              "      <td>44207</td>\n",
              "      <td>Ministério do Meio Ambiente</td>\n",
              "      <td>44000</td>\n",
              "      <td>666.105.574,81</td>\n",
              "      <td>610.110.950,78</td>\n",
              "      <td>583.078.783,36</td>\n",
              "    </tr>\n",
              "    <tr>\n",
              "      <th>14</th>\n",
              "      <td>2018</td>\n",
              "      <td>Fundo Nacional sobre Mudança no Clima</td>\n",
              "      <td>44902</td>\n",
              "      <td>Ministério do Meio Ambiente</td>\n",
              "      <td>44000</td>\n",
              "      <td>394.698.266,00</td>\n",
              "      <td>392.582.919,00</td>\n",
              "      <td>392.582.919,00</td>\n",
              "    </tr>\n",
              "    <tr>\n",
              "      <th>15</th>\n",
              "      <td>2018</td>\n",
              "      <td>Ministério do Meio Ambiente - Unidades com vín...</td>\n",
              "      <td>44000</td>\n",
              "      <td>Ministério do Meio Ambiente</td>\n",
              "      <td>44000</td>\n",
              "      <td>268.402.001,53</td>\n",
              "      <td>229.293.617,08</td>\n",
              "      <td>219.484.503,67</td>\n",
              "    </tr>\n",
              "    <tr>\n",
              "      <th>16</th>\n",
              "      <td>2018</td>\n",
              "      <td>Instituto de Pesquisas Jardim Botânico do Rio ...</td>\n",
              "      <td>44206</td>\n",
              "      <td>Ministério do Meio Ambiente</td>\n",
              "      <td>44000</td>\n",
              "      <td>73.185.635,69</td>\n",
              "      <td>70.106.689,12</td>\n",
              "      <td>66.591.306,41</td>\n",
              "    </tr>\n",
              "    <tr>\n",
              "      <th>17</th>\n",
              "      <td>2018</td>\n",
              "      <td>Fundo Nacional do Meio Ambiente</td>\n",
              "      <td>44204</td>\n",
              "      <td>Ministério do Meio Ambiente</td>\n",
              "      <td>44000</td>\n",
              "      <td>10.793.427,17</td>\n",
              "      <td>1.181.420,06</td>\n",
              "      <td>1.180.843,41</td>\n",
              "    </tr>\n",
              "  </tbody>\n",
              "</table>\n",
              "</div>"
            ],
            "text/plain": [
              "     ano  ...            pago\n",
              "13  2018  ...  583.078.783,36\n",
              "14  2018  ...  392.582.919,00\n",
              "15  2018  ...  219.484.503,67\n",
              "16  2018  ...   66.591.306,41\n",
              "17  2018  ...    1.180.843,41\n",
              "\n",
              "[5 rows x 8 columns]"
            ]
          },
          "metadata": {
            "tags": []
          },
          "execution_count": 6
        }
      ]
    },
    {
      "cell_type": "markdown",
      "metadata": {
        "id": "5_7o6XnIt8Mz"
      },
      "source": [
        "Fácil, não? Agora, vamos agrupar por órgao e comparar ano a ano. Para isso, usaremos função parecida com a \"tabela dinâmica\" dos editores de planilha. Nossas colunas serão os anos e cada linha será um órgão do Ministério do Meio Ambiente. Os valores serão somados de acordo com o ano e órgão."
      ]
    },
    {
      "cell_type": "code",
      "metadata": {
        "id": "QFOBarKypiJy",
        "outputId": "ebb1e228-957b-4cef-b765-6b1ddd8db5b0",
        "colab": {
          "base_uri": "https://localhost:8080/",
          "height": 266
        }
      },
      "source": [
        "df_por_orgao = pd.pivot_table(df_serie_orgao,\n",
        "                              values='liquidado',\n",
        "                              index=['orgao'],\n",
        "                              columns='ano',\n",
        "                              aggfunc=np.sum).sort_values(by='orgao', ascending=False)\n",
        "\n",
        "df_por_orgao"
      ],
      "execution_count": null,
      "outputs": [
        {
          "output_type": "execute_result",
          "data": {
            "text/html": [
              "<div>\n",
              "<style scoped>\n",
              "    .dataframe tbody tr th:only-of-type {\n",
              "        vertical-align: middle;\n",
              "    }\n",
              "\n",
              "    .dataframe tbody tr th {\n",
              "        vertical-align: top;\n",
              "    }\n",
              "\n",
              "    .dataframe thead th {\n",
              "        text-align: right;\n",
              "    }\n",
              "</style>\n",
              "<table border=\"1\" class=\"dataframe\">\n",
              "  <thead>\n",
              "    <tr style=\"text-align: right;\">\n",
              "      <th>ano</th>\n",
              "      <th>2016</th>\n",
              "      <th>2017</th>\n",
              "      <th>2018</th>\n",
              "    </tr>\n",
              "    <tr>\n",
              "      <th>orgao</th>\n",
              "      <th></th>\n",
              "      <th></th>\n",
              "      <th></th>\n",
              "    </tr>\n",
              "  </thead>\n",
              "  <tbody>\n",
              "    <tr>\n",
              "      <th>Ministério do Meio Ambiente - Unidades com vínculo direto</th>\n",
              "      <td>292.733.441,47</td>\n",
              "      <td>291.294.400,47</td>\n",
              "      <td>229.293.617,08</td>\n",
              "    </tr>\n",
              "    <tr>\n",
              "      <th>Instituto de Pesquisas Jardim Botânico do Rio de Janeiro</th>\n",
              "      <td>64.956.162,41</td>\n",
              "      <td>68.872.033,31</td>\n",
              "      <td>70.106.689,12</td>\n",
              "    </tr>\n",
              "    <tr>\n",
              "      <th>Instituto Chico Mendes de Conservação da Biodiversidade</th>\n",
              "      <td>574.340.871,93</td>\n",
              "      <td>584.586.460,34</td>\n",
              "      <td>610.110.950,78</td>\n",
              "    </tr>\n",
              "    <tr>\n",
              "      <th>Instituto Brasileiro do Meio Ambiente e dos Recursos Naturais Renováveis</th>\n",
              "      <td>1.322.018.555,52</td>\n",
              "      <td>1.372.364.904,86</td>\n",
              "      <td>1.406.268.441,60</td>\n",
              "    </tr>\n",
              "    <tr>\n",
              "      <th>Fundo Nacional sobre Mudança no Clima</th>\n",
              "      <td>0,00</td>\n",
              "      <td>23.166.881,00</td>\n",
              "      <td>392.582.919,00</td>\n",
              "    </tr>\n",
              "    <tr>\n",
              "      <th>Fundo Nacional do Meio Ambiente</th>\n",
              "      <td>241.528,51</td>\n",
              "      <td>1.811.643,23</td>\n",
              "      <td>1.181.420,06</td>\n",
              "    </tr>\n",
              "  </tbody>\n",
              "</table>\n",
              "</div>"
            ],
            "text/plain": [
              "ano                                                             2016  ...              2018\n",
              "orgao                                                                 ...                  \n",
              "Ministério do Meio Ambiente - Unidades com vínc...    292.733.441,47  ...    229.293.617,08\n",
              "Instituto de Pesquisas Jardim Botânico do Rio d...     64.956.162,41  ...     70.106.689,12\n",
              "Instituto Chico Mendes de Conservação da Biodiv...    574.340.871,93  ...    610.110.950,78\n",
              "Instituto Brasileiro do Meio Ambiente e dos Rec...  1.322.018.555,52  ...  1.406.268.441,60\n",
              "Fundo Nacional sobre Mudança no Clima                           0,00  ...    392.582.919,00\n",
              "Fundo Nacional do Meio Ambiente                           241.528,51  ...      1.181.420,06\n",
              "\n",
              "[6 rows x 3 columns]"
            ]
          },
          "metadata": {
            "tags": []
          },
          "execution_count": 7
        }
      ]
    },
    {
      "cell_type": "markdown",
      "metadata": {
        "id": "kmoBbFWnuoeL"
      },
      "source": [
        "## Fazendo buscas mais específicas\n",
        "Agora, vamos coletar dados de execução orçamentária da subfunção \"controle ambiental\" (identificada pelo código 542). Como você viu, tudo começa com a definição da URL e dos parâmetros e códigos que iremos passar em nossa consulta. Vamos definir manualmente cada um dos parâmetros de nossa consulta à API."
      ]
    },
    {
      "cell_type": "code",
      "metadata": {
        "id": "RzfTwAcfzCX6"
      },
      "source": [
        "# Vamos definir os termos de nossa consulta\n",
        "\n",
        "ano=2019 # você pode mudar o ano de acordo com a necessidade\n",
        "subfuncao=542 #código referente a \"controle ambiental\""
      ],
      "execution_count": null,
      "outputs": []
    },
    {
      "cell_type": "code",
      "metadata": {
        "id": "coO76S2ztwH4",
        "outputId": "cc054ac0-f977-469b-beb3-670cc4c77ca3",
        "colab": {
          "base_uri": "https://localhost:8080/",
          "height": 35
        }
      },
      "source": [
        "url = f'http://www.transparencia.gov.br/api-de-dados/despesas/por-funcional-programatica?ano={ano}&subfuncao={subfuncao}'\n",
        "# a base desta URL foi gerada no Swagger. com o comando acima, estamos \"colando\" os valores definidos anteriormente nas partes adequadas da URL\n",
        "\n",
        "url"
      ],
      "execution_count": null,
      "outputs": [
        {
          "output_type": "execute_result",
          "data": {
            "application/vnd.google.colaboratory.intrinsic+json": {
              "type": "string"
            },
            "text/plain": [
              "'http://www.transparencia.gov.br/api-de-dados/despesas/por-funcional-programatica?ano=2019&subfuncao=542'"
            ]
          },
          "metadata": {
            "tags": []
          },
          "execution_count": 9
        }
      ]
    },
    {
      "cell_type": "code",
      "metadata": {
        "id": "E-Q2QKIBubNg",
        "outputId": "5ca5b00c-4efd-4823-913a-a7608406f9aa",
        "colab": {
          "base_uri": "https://localhost:8080/",
          "height": 1000
        }
      },
      "source": [
        "page = 1\n",
        "registro = requests.get(url+f'&pagina={page}',\n",
        "                           verify=True,headers=chave).json()\n",
        "\n",
        "registro"
      ],
      "execution_count": null,
      "outputs": [
        {
          "output_type": "execute_result",
          "data": {
            "text/plain": [
              "[{'acao': 'ESTUDOS DE IMPACTO AMBIENTAL PARA PROJETOS DE INFRAESTRUTURA DE TRANSPORTES',\n",
              "  'ano': 2019,\n",
              "  'codigoAcao': '6241',\n",
              "  'codigoFuncao': '26',\n",
              "  'codigoPrograma': '0225',\n",
              "  'codigoSubfuncao': '542',\n",
              "  'empenhado': '0,00',\n",
              "  'funcao': 'Transporte',\n",
              "  'liquidado': '0,00',\n",
              "  'pago': '0,00',\n",
              "  'programa': 'GESTÃO DA POLÍTICA DOS TRANSPORTES',\n",
              "  'subfuncao': 'Controle ambiental'},\n",
              " {'acao': 'POLITICAS E ESTRATEGIAS DE PREVENCAO E CONTROLE DO DESMATAMENTO E DE MANEJO E RECUPERACAO FLORESTAL NO AMBITO DA UNIAO, ESTADOS E MUNICIPIOS',\n",
              "  'ano': 2019,\n",
              "  'codigoAcao': '20VU',\n",
              "  'codigoFuncao': '18',\n",
              "  'codigoPrograma': '2050',\n",
              "  'codigoSubfuncao': '542',\n",
              "  'empenhado': '303.989,98',\n",
              "  'funcao': 'Gestão ambiental',\n",
              "  'liquidado': '298.720,09',\n",
              "  'pago': '298.720,09',\n",
              "  'programa': 'MUDANCA DO CLIMA',\n",
              "  'subfuncao': 'Controle ambiental'},\n",
              " {'acao': 'IMPLEMENTAÇÃO DA POLÍTICA NACIONAL DE RESÍDUOS SÓLIDOS',\n",
              "  'ano': 2019,\n",
              "  'codigoAcao': '2E42',\n",
              "  'codigoFuncao': '18',\n",
              "  'codigoPrograma': '8007',\n",
              "  'codigoSubfuncao': '542',\n",
              "  'empenhado': '0,00',\n",
              "  'funcao': 'Gestão ambiental',\n",
              "  'liquidado': '0,00',\n",
              "  'pago': '0,00',\n",
              "  'programa': 'RESÍDUOS SÓLIDOS URBANOS',\n",
              "  'subfuncao': 'Controle ambiental'},\n",
              " {'acao': 'CONTROLE AMBIENTAL DE PRODUTOS, SUBSTANCIAS, RESIDUOS E ATIVIDADES POTENCIALMENTE POLUIDORAS',\n",
              "  'ano': 2019,\n",
              "  'codigoAcao': '20WH',\n",
              "  'codigoFuncao': '18',\n",
              "  'codigoPrograma': '2083',\n",
              "  'codigoSubfuncao': '542',\n",
              "  'empenhado': '1.901.057,19',\n",
              "  'funcao': 'Gestão ambiental',\n",
              "  'liquidado': '1.060.994,93',\n",
              "  'pago': '1.060.994,93',\n",
              "  'programa': 'QUALIDADE AMBIENTAL',\n",
              "  'subfuncao': 'Controle ambiental'},\n",
              " {'acao': 'APOIO A IMPLEMENTACAO DE INSTRUMENTOS ESTRUTURANTES DA POLITICA NACIONAL DE RESIDUOS SOLIDOS',\n",
              "  'ano': 2019,\n",
              "  'codigoAcao': '20W6',\n",
              "  'codigoFuncao': '18',\n",
              "  'codigoPrograma': '2083',\n",
              "  'codigoSubfuncao': '542',\n",
              "  'empenhado': '1.760.636,65',\n",
              "  'funcao': 'Gestão ambiental',\n",
              "  'liquidado': '250.934,24',\n",
              "  'pago': '250.934,24',\n",
              "  'programa': 'QUALIDADE AMBIENTAL',\n",
              "  'subfuncao': 'Controle ambiental'},\n",
              " {'acao': 'MONITORAMENTO AMBIENTAL E GESTAO DA INFORMACAO SOBRE O MEIO AMBIENTE E EDUCACAO AMBIENTAL',\n",
              "  'ano': 2019,\n",
              "  'codigoAcao': '218R',\n",
              "  'codigoFuncao': '18',\n",
              "  'codigoPrograma': '2083',\n",
              "  'codigoSubfuncao': '542',\n",
              "  'empenhado': '4.304.042,04',\n",
              "  'funcao': 'Gestão ambiental',\n",
              "  'liquidado': '2.495.560,60',\n",
              "  'pago': '2.495.560,60',\n",
              "  'programa': 'QUALIDADE AMBIENTAL',\n",
              "  'subfuncao': 'Controle ambiental'},\n",
              " {'acao': 'MANUTENCAO DO SISTEMA DE PROTECAO DA AMAZONIA - SIPAM',\n",
              "  'ano': 2019,\n",
              "  'codigoAcao': '20X4',\n",
              "  'codigoFuncao': '05',\n",
              "  'codigoPrograma': '2058',\n",
              "  'codigoSubfuncao': '542',\n",
              "  'empenhado': '40.831.032,31',\n",
              "  'funcao': 'Defesa nacional',\n",
              "  'liquidado': '22.622.295,06',\n",
              "  'pago': '22.582.049,52',\n",
              "  'programa': 'DEFESA NACIONAL',\n",
              "  'subfuncao': 'Controle ambiental'},\n",
              " {'acao': 'PROTECAO RADIOLOGICA',\n",
              "  'ano': 2019,\n",
              "  'codigoAcao': '215M',\n",
              "  'codigoFuncao': '19',\n",
              "  'codigoPrograma': '2059',\n",
              "  'codigoSubfuncao': '542',\n",
              "  'empenhado': '0,00',\n",
              "  'funcao': 'Ciência e Tecnologia',\n",
              "  'liquidado': '0,00',\n",
              "  'pago': '0,00',\n",
              "  'programa': 'POLITICA NUCLEAR',\n",
              "  'subfuncao': 'Controle ambiental'},\n",
              " {'acao': 'IMPLANTACAO DO SISTEMA AMAZONIA - SAR',\n",
              "  'ano': 2019,\n",
              "  'codigoAcao': '15P5',\n",
              "  'codigoFuncao': '05',\n",
              "  'codigoPrograma': '2058',\n",
              "  'codigoSubfuncao': '542',\n",
              "  'empenhado': '4.758.018,50',\n",
              "  'funcao': 'Defesa nacional',\n",
              "  'liquidado': '298.364,36',\n",
              "  'pago': '298.364,36',\n",
              "  'programa': 'DEFESA NACIONAL',\n",
              "  'subfuncao': 'Controle ambiental'},\n",
              " {'acao': 'PREVENCAO E COMBATE A INCENDIOS FLORESTAIS EM UNIDADES DE CONSERVACAO FEDERAIS',\n",
              "  'ano': 2019,\n",
              "  'codigoAcao': '20MY',\n",
              "  'codigoFuncao': '18',\n",
              "  'codigoPrograma': '2036',\n",
              "  'codigoSubfuncao': '542',\n",
              "  'empenhado': '0,00',\n",
              "  'funcao': 'Gestão ambiental',\n",
              "  'liquidado': '0,00',\n",
              "  'pago': '0,00',\n",
              "  'programa': 'FLORESTAS, PREVENCAO E CONTROLE DO DESMATAMENTO E DOS INCEND',\n",
              "  'subfuncao': 'Controle ambiental'},\n",
              " {'acao': 'MONITORAMENTO DA COBERTURA DA TERRA E DO RISCO DE QUEIMADAS E INCENDIOS FLORESTAIS (INPE)',\n",
              "  'ano': 2019,\n",
              "  'codigoAcao': '20V9',\n",
              "  'codigoFuncao': '19',\n",
              "  'codigoPrograma': '2050',\n",
              "  'codigoSubfuncao': '542',\n",
              "  'empenhado': '3.207.569,92',\n",
              "  'funcao': 'Ciência e Tecnologia',\n",
              "  'liquidado': '970.491,52',\n",
              "  'pago': '970.491,52',\n",
              "  'programa': 'MUDANCA DO CLIMA',\n",
              "  'subfuncao': 'Controle ambiental'},\n",
              " {'acao': 'PREVENCAO, FISCALIZACAO, COMBATE E CONTROLE AO DESMATAMENTO ILEGAL, AOS INCENDIOS FLORESTAIS E AOS DEMAIS ILICITOS AMBIENTAIS NA AMAZONIA LEGAL E SUA REGIAO FRONTEIRICA',\n",
              "  'ano': 2019,\n",
              "  'codigoAcao': '21BS',\n",
              "  'codigoFuncao': '18',\n",
              "  'codigoPrograma': '2083',\n",
              "  'codigoSubfuncao': '542',\n",
              "  'empenhado': '230.000.000,00',\n",
              "  'funcao': 'Gestão ambiental',\n",
              "  'liquidado': '0,00',\n",
              "  'pago': '0,00',\n",
              "  'programa': 'QUALIDADE AMBIENTAL',\n",
              "  'subfuncao': 'Controle ambiental'},\n",
              " {'acao': 'GESTAO AMBIENTALMENTE ADEQUADA DE SUBSTANCIAS QUIMICAS',\n",
              "  'ano': 2019,\n",
              "  'codigoAcao': '20VW',\n",
              "  'codigoFuncao': '18',\n",
              "  'codigoPrograma': '2083',\n",
              "  'codigoSubfuncao': '542',\n",
              "  'empenhado': '156.802,19',\n",
              "  'funcao': 'Gestão ambiental',\n",
              "  'liquidado': '12.054,97',\n",
              "  'pago': '12.054,97',\n",
              "  'programa': 'QUALIDADE AMBIENTAL',\n",
              "  'subfuncao': 'Controle ambiental'},\n",
              " {'acao': 'ELABORAÇÃO E EXECUÇÃO DE ESTUDOS DE IMPACTO AMBIENTAL E PLANOS BÁSICOS AMBIENTAIS PARA PROJETOS DE INFRAESTRUTURA DE TRANSPORTES',\n",
              "  'ano': 2019,\n",
              "  'codigoAcao': '13ZT',\n",
              "  'codigoFuncao': '26',\n",
              "  'codigoPrograma': '2126',\n",
              "  'codigoSubfuncao': '542',\n",
              "  'empenhado': '0,00',\n",
              "  'funcao': 'Transporte',\n",
              "  'liquidado': '0,00',\n",
              "  'pago': '0,00',\n",
              "  'programa': 'PROGRAMA DE GESTAO E MANUTENCAO DO MINISTERIO DA INFRAESTRUT',\n",
              "  'subfuncao': 'Controle ambiental'},\n",
              " {'acao': 'ESTRUTURACAO DA GESTAO NACIONAL DOS RECURSOS FAUNISTICOS',\n",
              "  'ano': 2019,\n",
              "  'codigoAcao': '20WG',\n",
              "  'codigoFuncao': '18',\n",
              "  'codigoPrograma': '2078',\n",
              "  'codigoSubfuncao': '542',\n",
              "  'empenhado': '0,00',\n",
              "  'funcao': 'Gestão ambiental',\n",
              "  'liquidado': '0,00',\n",
              "  'pago': '0,00',\n",
              "  'programa': 'CONSERVACAO E USO SUSTENTAVEL DA BIODIVERSIDADE',\n",
              "  'subfuncao': 'Controle ambiental'}]"
            ]
          },
          "metadata": {
            "tags": []
          },
          "execution_count": 34
        }
      ]
    },
    {
      "cell_type": "markdown",
      "metadata": {
        "id": "6l4ozMaheo37"
      },
      "source": [
        "Temos o nosso resultado! Mas... precisamos fazer uma iteração para coletar todas as páginas, não apenas a primeira."
      ]
    },
    {
      "cell_type": "code",
      "metadata": {
        "id": "GK6t8QzKwIcJ",
        "outputId": "6d0698d6-5752-405f-ac52-4bfe8f4cc5c8",
        "colab": {
          "base_uri": "https://localhost:8080/",
          "height": 119
        }
      },
      "source": [
        "# Vamos definir aqui a página inicial e o tamanho do registro que obtemos da API. Se ele for zero, a iteração irá parar.\n",
        "page = 1\n",
        "tamanho = len(registro)\n",
        "\n",
        "# E vamos armazenar as informações de todas as páginas chamando a de \"dados\"\n",
        "dados = []\n",
        "\n",
        "# Aqui a iteração que irá percorrer as páginas\n",
        "while(tamanho>0):\n",
        "    print('Baixando a página', page, ' do link:', url+f'&pagina={page}')\n",
        "    registro = requests.get(url+f'&pagina={page}',headers=chave).json()\n",
        "    tamanho = len(registro)\n",
        "    # Se a resposta for válida, vamos juntar o registro da página atual com os dados já coletados\n",
        "    if tamanho > 0:\n",
        "      dados = dados + registro\n",
        "      page = page + 1\n",
        "      print('O tamanho da última resposta foi',tamanho,'. Iremos seguir em frente!')\n",
        "    else:\n",
        "      print('A última requisição veio vazia. Paramos por aqui.')\n"
      ],
      "execution_count": null,
      "outputs": [
        {
          "output_type": "stream",
          "text": [
            "Baixando a página 1  do link: http://www.transparencia.gov.br/api-de-dados/despesas/por-funcional-programatica?ano=2019&subfuncao=542&pagina=1\n",
            "O tamanho da última resposta foi 15 . Iremos seguir em frente!\n",
            "Baixando a página 2  do link: http://www.transparencia.gov.br/api-de-dados/despesas/por-funcional-programatica?ano=2019&subfuncao=542&pagina=2\n",
            "O tamanho da última resposta foi 8 . Iremos seguir em frente!\n",
            "Baixando a página 3  do link: http://www.transparencia.gov.br/api-de-dados/despesas/por-funcional-programatica?ano=2019&subfuncao=542&pagina=3\n",
            "A última requisição veio vazia. Paramos por aqui.\n"
          ],
          "name": "stdout"
        }
      ]
    },
    {
      "cell_type": "code",
      "metadata": {
        "id": "_8niXpCxvXRG"
      },
      "source": [
        "# Vamos transformar o JSON em um dataframe do pandas\n",
        "df = pd.DataFrame(dados)"
      ],
      "execution_count": null,
      "outputs": []
    },
    {
      "cell_type": "code",
      "metadata": {
        "id": "BlUqCxb8ub3c",
        "outputId": "139252b3-42e2-467d-a459-8d02d769c47d",
        "colab": {
          "base_uri": "https://localhost:8080/",
          "height": 289
        }
      },
      "source": [
        "# Vamos conferir os 5 últimos registros (útil para checar se todos os dados foram importados)\n",
        "df.tail(5)"
      ],
      "execution_count": null,
      "outputs": [
        {
          "output_type": "execute_result",
          "data": {
            "text/html": [
              "<div>\n",
              "<style scoped>\n",
              "    .dataframe tbody tr th:only-of-type {\n",
              "        vertical-align: middle;\n",
              "    }\n",
              "\n",
              "    .dataframe tbody tr th {\n",
              "        vertical-align: top;\n",
              "    }\n",
              "\n",
              "    .dataframe thead th {\n",
              "        text-align: right;\n",
              "    }\n",
              "</style>\n",
              "<table border=\"1\" class=\"dataframe\">\n",
              "  <thead>\n",
              "    <tr style=\"text-align: right;\">\n",
              "      <th></th>\n",
              "      <th>ano</th>\n",
              "      <th>funcao</th>\n",
              "      <th>codigoFuncao</th>\n",
              "      <th>subfuncao</th>\n",
              "      <th>codigoSubfuncao</th>\n",
              "      <th>programa</th>\n",
              "      <th>codigoPrograma</th>\n",
              "      <th>acao</th>\n",
              "      <th>codigoAcao</th>\n",
              "      <th>empenhado</th>\n",
              "      <th>liquidado</th>\n",
              "      <th>pago</th>\n",
              "    </tr>\n",
              "  </thead>\n",
              "  <tbody>\n",
              "    <tr>\n",
              "      <th>18</th>\n",
              "      <td>2019</td>\n",
              "      <td>Gestão ambiental</td>\n",
              "      <td>18</td>\n",
              "      <td>Controle ambiental</td>\n",
              "      <td>542</td>\n",
              "      <td>RESÍDUOS SÓLIDOS URBANOS</td>\n",
              "      <td>8007</td>\n",
              "      <td>IMPLEMENTAÇÃO DA POLÍTICA NACIONAL DE RESÍDUOS...</td>\n",
              "      <td>2E42</td>\n",
              "      <td>0,00</td>\n",
              "      <td>0,00</td>\n",
              "      <td>0,00</td>\n",
              "    </tr>\n",
              "    <tr>\n",
              "      <th>19</th>\n",
              "      <td>2019</td>\n",
              "      <td>Gestão ambiental</td>\n",
              "      <td>18</td>\n",
              "      <td>Controle ambiental</td>\n",
              "      <td>542</td>\n",
              "      <td>MUDANCA DO CLIMA</td>\n",
              "      <td>2050</td>\n",
              "      <td>POLITICAS E ESTRATEGIAS DE PREVENCAO E CONTROL...</td>\n",
              "      <td>20VU</td>\n",
              "      <td>303.989,98</td>\n",
              "      <td>298.720,09</td>\n",
              "      <td>298.720,09</td>\n",
              "    </tr>\n",
              "    <tr>\n",
              "      <th>20</th>\n",
              "      <td>2019</td>\n",
              "      <td>Ciência e Tecnologia</td>\n",
              "      <td>19</td>\n",
              "      <td>Controle ambiental</td>\n",
              "      <td>542</td>\n",
              "      <td>POLITICA NUCLEAR</td>\n",
              "      <td>2059</td>\n",
              "      <td>PROTECAO RADIOLOGICA</td>\n",
              "      <td>215M</td>\n",
              "      <td>0,00</td>\n",
              "      <td>0,00</td>\n",
              "      <td>0,00</td>\n",
              "    </tr>\n",
              "    <tr>\n",
              "      <th>21</th>\n",
              "      <td>2019</td>\n",
              "      <td>Gestão ambiental</td>\n",
              "      <td>18</td>\n",
              "      <td>Controle ambiental</td>\n",
              "      <td>542</td>\n",
              "      <td>OCEANOS, ZONA COSTEIRA E ANTARTICA</td>\n",
              "      <td>2046</td>\n",
              "      <td>POLITICAS PARA A GESTAO AMBIENTAL E TERRITORIA...</td>\n",
              "      <td>20W0</td>\n",
              "      <td>945.829,34</td>\n",
              "      <td>274.555,79</td>\n",
              "      <td>274.555,79</td>\n",
              "    </tr>\n",
              "    <tr>\n",
              "      <th>22</th>\n",
              "      <td>2019</td>\n",
              "      <td>Gestão ambiental</td>\n",
              "      <td>18</td>\n",
              "      <td>Controle ambiental</td>\n",
              "      <td>542</td>\n",
              "      <td>MUDANCA DO CLIMA</td>\n",
              "      <td>2050</td>\n",
              "      <td>PREVENCAO E CONTROLE DE INCENDIOS FLORESTAIS N...</td>\n",
              "      <td>214M</td>\n",
              "      <td>40.681.212,20</td>\n",
              "      <td>36.711.063,74</td>\n",
              "      <td>34.097.966,00</td>\n",
              "    </tr>\n",
              "  </tbody>\n",
              "</table>\n",
              "</div>"
            ],
            "text/plain": [
              "     ano                funcao  ...      liquidado           pago\n",
              "18  2019      Gestão ambiental  ...           0,00           0,00\n",
              "19  2019      Gestão ambiental  ...     298.720,09     298.720,09\n",
              "20  2019  Ciência e Tecnologia  ...           0,00           0,00\n",
              "21  2019      Gestão ambiental  ...     274.555,79     274.555,79\n",
              "22  2019      Gestão ambiental  ...  36.711.063,74  34.097.966,00\n",
              "\n",
              "[5 rows x 12 columns]"
            ]
          },
          "metadata": {
            "tags": []
          },
          "execution_count": 42
        }
      ]
    },
    {
      "cell_type": "markdown",
      "metadata": {
        "id": "An8hdG961Cdd"
      },
      "source": [
        "Por fim, vamos agrupar os valores empenhados por programa e função. Para isso, precisaremos converter esta coluna para número."
      ]
    },
    {
      "cell_type": "code",
      "metadata": {
        "id": "CsJ4dSvXmiKH"
      },
      "source": [
        "# Aqui vamos salvar nosso resultado como um CSV e reimportá-lo especificando que os números estão no formato brasileiro\n",
        "df.to_csv('arquivo.csv')"
      ],
      "execution_count": null,
      "outputs": []
    },
    {
      "cell_type": "code",
      "metadata": {
        "id": "bfvGGLi7nNEt"
      },
      "source": [
        "# Desabilita notação científica\n",
        "pd.set_option('display.float_format', lambda x: '%.3f' % x)\n",
        "\n",
        "df = pd.read_csv('arquivo.csv', decimal=',', thousands='.')"
      ],
      "execution_count": null,
      "outputs": []
    },
    {
      "cell_type": "code",
      "metadata": {
        "id": "6ZPcdMD8z-2K",
        "outputId": "fba5ce4e-536a-4887-bde4-81bbdd3febb4",
        "colab": {
          "base_uri": "https://localhost:8080/",
          "height": 421
        }
      },
      "source": [
        "df_por_programa = pd.pivot_table(df,\n",
        "                              values='empenhado',\n",
        "                              index=['programa'],\n",
        "                              columns='funcao',\n",
        "                              aggfunc=np.sum)\n",
        "\n",
        "df_por_programa"
      ],
      "execution_count": null,
      "outputs": [
        {
          "output_type": "execute_result",
          "data": {
            "text/html": [
              "<div>\n",
              "<style scoped>\n",
              "    .dataframe tbody tr th:only-of-type {\n",
              "        vertical-align: middle;\n",
              "    }\n",
              "\n",
              "    .dataframe tbody tr th {\n",
              "        vertical-align: top;\n",
              "    }\n",
              "\n",
              "    .dataframe thead th {\n",
              "        text-align: right;\n",
              "    }\n",
              "</style>\n",
              "<table border=\"1\" class=\"dataframe\">\n",
              "  <thead>\n",
              "    <tr style=\"text-align: right;\">\n",
              "      <th>funcao</th>\n",
              "      <th>Ciência e Tecnologia</th>\n",
              "      <th>Defesa nacional</th>\n",
              "      <th>Energia</th>\n",
              "      <th>Gestão ambiental</th>\n",
              "      <th>Transporte</th>\n",
              "    </tr>\n",
              "    <tr>\n",
              "      <th>programa</th>\n",
              "      <th></th>\n",
              "      <th></th>\n",
              "      <th></th>\n",
              "      <th></th>\n",
              "      <th></th>\n",
              "    </tr>\n",
              "  </thead>\n",
              "  <tbody>\n",
              "    <tr>\n",
              "      <th>CONSERVACAO E USO SUSTENTAVEL DA BIODIVERSIDADE</th>\n",
              "      <td>nan</td>\n",
              "      <td>nan</td>\n",
              "      <td>nan</td>\n",
              "      <td>15175761.590</td>\n",
              "      <td>nan</td>\n",
              "    </tr>\n",
              "    <tr>\n",
              "      <th>DEFESA NACIONAL</th>\n",
              "      <td>nan</td>\n",
              "      <td>45589050.810</td>\n",
              "      <td>nan</td>\n",
              "      <td>nan</td>\n",
              "      <td>nan</td>\n",
              "    </tr>\n",
              "    <tr>\n",
              "      <th>FLORESTAS, PREVENCAO E CONTROLE DO DESMATAMENTO E DOS INCEND</th>\n",
              "      <td>nan</td>\n",
              "      <td>nan</td>\n",
              "      <td>nan</td>\n",
              "      <td>0.000</td>\n",
              "      <td>nan</td>\n",
              "    </tr>\n",
              "    <tr>\n",
              "      <th>GESTÃO DA POLÍTICA DOS TRANSPORTES</th>\n",
              "      <td>nan</td>\n",
              "      <td>nan</td>\n",
              "      <td>nan</td>\n",
              "      <td>nan</td>\n",
              "      <td>0.000</td>\n",
              "    </tr>\n",
              "    <tr>\n",
              "      <th>MUDANCA DO CLIMA</th>\n",
              "      <td>3207569.920</td>\n",
              "      <td>nan</td>\n",
              "      <td>nan</td>\n",
              "      <td>81970404.360</td>\n",
              "      <td>nan</td>\n",
              "    </tr>\n",
              "    <tr>\n",
              "      <th>OCEANOS, ZONA COSTEIRA E ANTARTICA</th>\n",
              "      <td>nan</td>\n",
              "      <td>nan</td>\n",
              "      <td>nan</td>\n",
              "      <td>945829.340</td>\n",
              "      <td>nan</td>\n",
              "    </tr>\n",
              "    <tr>\n",
              "      <th>PETROLEO E GAS</th>\n",
              "      <td>nan</td>\n",
              "      <td>nan</td>\n",
              "      <td>3569005.500</td>\n",
              "      <td>nan</td>\n",
              "      <td>nan</td>\n",
              "    </tr>\n",
              "    <tr>\n",
              "      <th>POLITICA NUCLEAR</th>\n",
              "      <td>0.000</td>\n",
              "      <td>nan</td>\n",
              "      <td>nan</td>\n",
              "      <td>nan</td>\n",
              "      <td>nan</td>\n",
              "    </tr>\n",
              "    <tr>\n",
              "      <th>PROGRAMA DE GESTAO E MANUTENCAO DO MINISTERIO DA INFRAESTRUT</th>\n",
              "      <td>nan</td>\n",
              "      <td>nan</td>\n",
              "      <td>nan</td>\n",
              "      <td>nan</td>\n",
              "      <td>0.000</td>\n",
              "    </tr>\n",
              "    <tr>\n",
              "      <th>QUALIDADE AMBIENTAL</th>\n",
              "      <td>nan</td>\n",
              "      <td>nan</td>\n",
              "      <td>nan</td>\n",
              "      <td>242959612.120</td>\n",
              "      <td>nan</td>\n",
              "    </tr>\n",
              "    <tr>\n",
              "      <th>RESÍDUOS SÓLIDOS URBANOS</th>\n",
              "      <td>nan</td>\n",
              "      <td>nan</td>\n",
              "      <td>nan</td>\n",
              "      <td>0.000</td>\n",
              "      <td>nan</td>\n",
              "    </tr>\n",
              "  </tbody>\n",
              "</table>\n",
              "</div>"
            ],
            "text/plain": [
              "funcao                                              Ciência e Tecnologia  ...  Transporte\n",
              "programa                                                                  ...            \n",
              "CONSERVACAO E USO SUSTENTAVEL DA BIODIVERSIDADE                      nan  ...         nan\n",
              "DEFESA NACIONAL                                                      nan  ...         nan\n",
              "FLORESTAS, PREVENCAO E CONTROLE DO DESMATAMENTO...                   nan  ...         nan\n",
              "GESTÃO DA POLÍTICA DOS TRANSPORTES                                   nan  ...       0.000\n",
              "MUDANCA DO CLIMA                                             3207569.920  ...         nan\n",
              "OCEANOS, ZONA COSTEIRA E ANTARTICA                                   nan  ...         nan\n",
              "PETROLEO E GAS                                                       nan  ...         nan\n",
              "POLITICA NUCLEAR                                                   0.000  ...         nan\n",
              "PROGRAMA DE GESTAO E MANUTENCAO DO MINISTERIO D...                   nan  ...       0.000\n",
              "QUALIDADE AMBIENTAL                                                  nan  ...         nan\n",
              "RESÍDUOS SÓLIDOS URBANOS                                             nan  ...         nan\n",
              "\n",
              "[11 rows x 5 columns]"
            ]
          },
          "metadata": {
            "tags": []
          },
          "execution_count": 60
        }
      ]
    }
  ]
}